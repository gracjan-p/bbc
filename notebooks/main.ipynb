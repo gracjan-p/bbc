{
 "cells": [
  {
   "metadata": {},
   "cell_type": "markdown",
   "source": "#### Setup",
   "id": "1a1fc639b0fa72c6"
  },
  {
   "metadata": {
    "ExecuteTime": {
     "end_time": "2025-04-02T00:20:27.279661Z",
     "start_time": "2025-04-02T00:20:27.273358Z"
    }
   },
   "cell_type": "code",
   "source": [
    "import matplotlib.pyplot as plt\n",
    "\n",
    "# DON'T MIND THIS, it's dark theme for matplotlib\n",
    "WHITE_MID = '#b5b5b5'\n",
    "GREY_DARK = '#141414'\n",
    "\n",
    "plt.rcParams['figure.facecolor'] = GREY_DARK\n",
    "plt.rcParams['text.color'] = WHITE_MID\n",
    "plt.rcParams['axes.facecolor'] = GREY_DARK\n",
    "plt.rcParams['axes.edgecolor'] = WHITE_MID\n",
    "plt.rcParams['axes.labelcolor'] = WHITE_MID\n",
    "plt.rcParams['axes.titlecolor'] = WHITE_MID\n",
    "\n",
    "plt.rcParams['grid.color'] = WHITE_MID\n",
    "plt.rcParams['grid.linestyle'] = '--'\n",
    "plt.rcParams['grid.linewidth'] = 0.5\n",
    "plt.rcParams['axes.grid'] = True\n",
    "\n",
    "plt.rcParams['axes.linewidth'] = 1\n",
    "plt.rcParams['xtick.color'] = WHITE_MID\n",
    "plt.rcParams['ytick.color'] = WHITE_MID\n",
    "plt.rcParams['legend.edgecolor'] = WHITE_MID\n",
    "plt.rcParams['legend.labelcolor'] = WHITE_MID"
   ],
   "id": "3481d31a870b87a",
   "outputs": [],
   "execution_count": 1
  },
  {
   "cell_type": "code",
   "id": "initial_id",
   "metadata": {
    "collapsed": true,
    "ExecuteTime": {
     "end_time": "2025-04-02T00:20:30.499295Z",
     "start_time": "2025-04-02T00:20:27.281169Z"
    }
   },
   "source": [
    "import numpy as np\n",
    "import torch\n",
    "import random\n",
    "import warnings\n",
    "\n",
    "warnings.filterwarnings(\"ignore\")\n",
    "\n",
    "seed_value = 42\n",
    "\n",
    "np.random.seed(seed_value)\n",
    "torch.manual_seed(seed_value)\n",
    "torch.cuda.manual_seed_all(seed_value)\n",
    "random.seed(seed_value)"
   ],
   "outputs": [],
   "execution_count": 2
  },
  {
   "metadata": {},
   "cell_type": "markdown",
   "source": [
    "# Exploratory Data Analysis\n",
    "#### Loading data"
   ],
   "id": "d6b6e5f2d4332bf9"
  },
  {
   "metadata": {
    "ExecuteTime": {
     "end_time": "2025-04-02T00:20:30.553665Z",
     "start_time": "2025-04-02T00:20:30.499821Z"
    }
   },
   "cell_type": "code",
   "source": [
    "import pandas as pd\n",
    "\n",
    "df = pd.read_csv('..\\\\datasets\\\\bbc-cleaned.csv')\n",
    "df"
   ],
   "id": "ab1c928658946f1a",
   "outputs": [
    {
     "data": {
      "text/plain": [
       "      category                                               text\n",
       "0     business  ad sale boost time warner profit quarter profi...\n",
       "1     business  dollar gain greenspan speech dollar hit highes...\n",
       "2     business  yuko unit buyer face loan claim owner embattl ...\n",
       "3     business  high fuel price hit ba profit british airway b...\n",
       "4     business  pernod takeov talk lift domecq share uk drink ...\n",
       "...        ...                                                ...\n",
       "2220      tech  bt program beat dialler scam bt introduc two i...\n",
       "2221      tech  spam e mail tempt net shopper comput user acro...\n",
       "2222      tech  care code new european direct could put softwa...\n",
       "2223      tech  us cyber secur chief resign man make sure us c...\n",
       "2224      tech  lose onlin game onlin role play game time cons...\n",
       "\n",
       "[2225 rows x 2 columns]"
      ],
      "text/html": [
       "<div>\n",
       "<style scoped>\n",
       "    .dataframe tbody tr th:only-of-type {\n",
       "        vertical-align: middle;\n",
       "    }\n",
       "\n",
       "    .dataframe tbody tr th {\n",
       "        vertical-align: top;\n",
       "    }\n",
       "\n",
       "    .dataframe thead th {\n",
       "        text-align: right;\n",
       "    }\n",
       "</style>\n",
       "<table border=\"1\" class=\"dataframe\">\n",
       "  <thead>\n",
       "    <tr style=\"text-align: right;\">\n",
       "      <th></th>\n",
       "      <th>category</th>\n",
       "      <th>text</th>\n",
       "    </tr>\n",
       "  </thead>\n",
       "  <tbody>\n",
       "    <tr>\n",
       "      <th>0</th>\n",
       "      <td>business</td>\n",
       "      <td>ad sale boost time warner profit quarter profi...</td>\n",
       "    </tr>\n",
       "    <tr>\n",
       "      <th>1</th>\n",
       "      <td>business</td>\n",
       "      <td>dollar gain greenspan speech dollar hit highes...</td>\n",
       "    </tr>\n",
       "    <tr>\n",
       "      <th>2</th>\n",
       "      <td>business</td>\n",
       "      <td>yuko unit buyer face loan claim owner embattl ...</td>\n",
       "    </tr>\n",
       "    <tr>\n",
       "      <th>3</th>\n",
       "      <td>business</td>\n",
       "      <td>high fuel price hit ba profit british airway b...</td>\n",
       "    </tr>\n",
       "    <tr>\n",
       "      <th>4</th>\n",
       "      <td>business</td>\n",
       "      <td>pernod takeov talk lift domecq share uk drink ...</td>\n",
       "    </tr>\n",
       "    <tr>\n",
       "      <th>...</th>\n",
       "      <td>...</td>\n",
       "      <td>...</td>\n",
       "    </tr>\n",
       "    <tr>\n",
       "      <th>2220</th>\n",
       "      <td>tech</td>\n",
       "      <td>bt program beat dialler scam bt introduc two i...</td>\n",
       "    </tr>\n",
       "    <tr>\n",
       "      <th>2221</th>\n",
       "      <td>tech</td>\n",
       "      <td>spam e mail tempt net shopper comput user acro...</td>\n",
       "    </tr>\n",
       "    <tr>\n",
       "      <th>2222</th>\n",
       "      <td>tech</td>\n",
       "      <td>care code new european direct could put softwa...</td>\n",
       "    </tr>\n",
       "    <tr>\n",
       "      <th>2223</th>\n",
       "      <td>tech</td>\n",
       "      <td>us cyber secur chief resign man make sure us c...</td>\n",
       "    </tr>\n",
       "    <tr>\n",
       "      <th>2224</th>\n",
       "      <td>tech</td>\n",
       "      <td>lose onlin game onlin role play game time cons...</td>\n",
       "    </tr>\n",
       "  </tbody>\n",
       "</table>\n",
       "<p>2225 rows × 2 columns</p>\n",
       "</div>"
      ]
     },
     "execution_count": 3,
     "metadata": {},
     "output_type": "execute_result"
    }
   ],
   "execution_count": 3
  },
  {
   "metadata": {
    "ExecuteTime": {
     "end_time": "2025-04-02T00:20:30.567068Z",
     "start_time": "2025-04-02T00:20:30.554624Z"
    }
   },
   "cell_type": "code",
   "source": "df.info()",
   "id": "b6a6ba81b18c8866",
   "outputs": [
    {
     "name": "stdout",
     "output_type": "stream",
     "text": [
      "<class 'pandas.core.frame.DataFrame'>\n",
      "RangeIndex: 2225 entries, 0 to 2224\n",
      "Data columns (total 2 columns):\n",
      " #   Column    Non-Null Count  Dtype \n",
      "---  ------    --------------  ----- \n",
      " 0   category  2225 non-null   object\n",
      " 1   text      2225 non-null   object\n",
      "dtypes: object(2)\n",
      "memory usage: 34.9+ KB\n"
     ]
    }
   ],
   "execution_count": 4
  },
  {
   "metadata": {
    "ExecuteTime": {
     "end_time": "2025-04-02T00:20:30.574112Z",
     "start_time": "2025-04-02T00:20:30.568061Z"
    }
   },
   "cell_type": "code",
   "source": "df['category'].unique()",
   "id": "b644b205b3617d1d",
   "outputs": [
    {
     "data": {
      "text/plain": [
       "array(['business', 'entertainment', 'politics', 'sport', 'tech'],\n",
       "      dtype=object)"
      ]
     },
     "execution_count": 5,
     "metadata": {},
     "output_type": "execute_result"
    }
   ],
   "execution_count": 5
  },
  {
   "metadata": {
    "ExecuteTime": {
     "end_time": "2025-04-02T00:20:30.611125Z",
     "start_time": "2025-04-02T00:20:30.575109Z"
    }
   },
   "cell_type": "code",
   "source": [
    "df['length'] = df['text'].apply(lambda x: len(x.split()))\n",
    "df['length']"
   ],
   "id": "3b763d5dd9e88b2e",
   "outputs": [
    {
     "data": {
      "text/plain": [
       "0        247\n",
       "1        229\n",
       "2        159\n",
       "3        245\n",
       "4        166\n",
       "        ... \n",
       "2220     244\n",
       "2221     216\n",
       "2222     543\n",
       "2223     221\n",
       "2224    1466\n",
       "Name: length, Length: 2225, dtype: int64"
      ]
     },
     "execution_count": 6,
     "metadata": {},
     "output_type": "execute_result"
    }
   ],
   "execution_count": 6
  },
  {
   "metadata": {
    "ExecuteTime": {
     "end_time": "2025-04-02T00:20:32.691603Z",
     "start_time": "2025-04-02T00:20:32.020812Z"
    }
   },
   "cell_type": "code",
   "source": [
    "from scipy.stats import hmean\n",
    "import seaborn as sb\n",
    "\n",
    "mid_blue = '#6f93bf'\n",
    "mid_red = '#bf6f6f'\n",
    "\n",
    "min_headline_len = df['length'].min()\n",
    "max_headline_len = df['length'].max()\n",
    "\n",
    "headline_mean = round(df['length'].mean())\n",
    "headline_hmean = round(hmean(df['length']))\n",
    "\n",
    "print(\n",
    "    f\"{\"mean\":>20}: {headline_mean}\",\n",
    "    f\"{\"harmonic mean\":>20}: {headline_hmean}\", sep='\\n'\n",
    ")\n",
    "\n",
    "fig, axes = plt.subplots(figsize=(20, 6))\n",
    "\n",
    "sb.histplot(df['length'], ax=axes, binwidth=10, linewidth=0, color=mid_blue)\n",
    "axes.axvline(headline_hmean, linestyle=':', label='harmonic mean', color='white')\n",
    "axes.axvline(headline_mean, linestyle=':', label='mean', color='white')\n",
    "axes.annotate(text=f\"hmean - {headline_hmean}\", xy=(headline_hmean+10, 5), color='white')\n",
    "axes.annotate(text=f\"mean - {headline_mean}\", xy=(headline_mean+10, 15), color='white')\n",
    "\n",
    "axes.set_title('Headline length in words')\n",
    "axes.set_xlabel('Length in words')\n",
    "axes.set_ylabel('Amount of headlines')\n",
    "axes.legend()\n",
    "\n",
    "plt.tight_layout()"
   ],
   "id": "3c06dc00c3fe99bd",
   "outputs": [
    {
     "name": "stdout",
     "output_type": "stream",
     "text": [
      "                mean: 219\n",
      "       harmonic mean: 177\n"
     ]
    },
    {
     "data": {
      "text/plain": [
       "<Figure size 2000x600 with 1 Axes>"
      ],
      "image/png": "[encoded data removed]"
     },
     "metadata": {},
     "output_type": "display_data"
    }
   ],
   "execution_count": 7
  },
  {
   "metadata": {
    "ExecuteTime": {
     "end_time": "2025-04-02T00:21:17.830109Z",
     "start_time": "2025-04-02T00:21:17.685409Z"
    }
   },
   "cell_type": "code",
   "source": [
    "sorted_categories = df['category'].value_counts().index\n",
    "\n",
    "fig, axes = plt.subplots(figsize=(8, 4))\n",
    "\n",
    "min_label = df['category'].value_counts().min()\n",
    "max_label = df['category'].value_counts().max()\n",
    "\n",
    "print(\n",
    "    f\"min: {min_label}\",\n",
    "    f\"max: {max_label}\", sep='\\n'\n",
    ")\n",
    "\n",
    "sb.countplot(df['category'], order=sorted_categories, color=mid_blue, linewidth=0)\n",
    "plt.tight_layout()"
   ],
   "id": "a95982444f62dfaf",
   "outputs": [
    {
     "name": "stdout",
     "output_type": "stream",
     "text": [
      "min: 386\n",
      "max: 511\n"
     ]
    },
    {
     "data": {
      "text/plain": [
       "<Figure size 800x400 with 1 Axes>"
      ],
      "image/png": "[encoded data removed]"
     },
     "metadata": {},
     "output_type": "display_data"
    }
   ],
   "execution_count": 8
  },
  {
   "metadata": {},
   "cell_type": "markdown",
   "source": [
    "#### Tokenizing headlines\n",
    "1) apply tokenizing function\n",
    "2) shuffle dataset before train/test split"
   ],
   "id": "b2b7a81719452023"
  },
  {
   "metadata": {
    "ExecuteTime": {
     "end_time": "2025-04-02T00:21:36.286943Z",
     "start_time": "2025-04-02T00:21:36.158814Z"
    }
   },
   "cell_type": "code",
   "source": [
    "from collections import Counter\n",
    "\n",
    "tokenized_texts = [text.split() for text in df['text']]\n",
    "word_counts = Counter([word for text in tokenized_texts\n",
    "                            for word in text])\n",
    "word_counts.most_common(10)"
   ],
   "id": "33611950621db542",
   "outputs": [
    {
     "data": {
      "text/plain": [
       "[('said', 7255),\n",
       " ('year', 3319),\n",
       " ('mr', 3005),\n",
       " ('would', 2581),\n",
       " ('also', 2156),\n",
       " ('peopl', 2046),\n",
       " ('new', 1978),\n",
       " ('us', 1972),\n",
       " ('one', 1942),\n",
       " ('time', 1667)]"
      ]
     },
     "execution_count": 9,
     "metadata": {},
     "output_type": "execute_result"
    }
   ],
   "execution_count": 9
  },
  {
   "metadata": {
    "ExecuteTime": {
     "end_time": "2025-04-02T00:21:56.486299Z",
     "start_time": "2025-04-02T00:21:56.469619Z"
    }
   },
   "cell_type": "code",
   "source": [
    "word_to_idx = {word: i+1 for i, (word, _) in enumerate(word_counts.most_common())}\n",
    "word_to_idx['<PAD>'] = 0\n",
    "idx_to_word = {i: word for word, i in word_to_idx.items()}\n",
    "\n",
    "for i in range(10):\n",
    "    print(idx_to_word[i])"
   ],
   "id": "771b59d4e59f3c3b",
   "outputs": [
    {
     "name": "stdout",
     "output_type": "stream",
     "text": [
      "<PAD>\n",
      "said\n",
      "year\n",
      "mr\n",
      "would\n",
      "also\n",
      "peopl\n",
      "new\n",
      "us\n",
      "one\n"
     ]
    }
   ],
   "execution_count": 10
  },
  {
   "metadata": {
    "ExecuteTime": {
     "end_time": "2025-04-02T00:21:57.165179Z",
     "start_time": "2025-04-02T00:21:57.158805Z"
    }
   },
   "cell_type": "code",
   "source": [
    "max_length = df['length'].max()\n",
    "\n",
    "def vectorize_headline(headline):\n",
    "    result = [word_to_idx[w] for w in headline.split()[:max_length]]\n",
    "    result = np.pad(result, (0, max_length - len(result)))\n",
    "    return result"
   ],
   "id": "84884d2deea88c2f",
   "outputs": [],
   "execution_count": 11
  },
  {
   "metadata": {
    "ExecuteTime": {
     "end_time": "2025-04-02T00:22:00.779586Z",
     "start_time": "2025-04-02T00:22:00.543772Z"
    }
   },
   "cell_type": "code",
   "source": [
    "df['text'] = df['text'].apply(vectorize_headline)\n",
    "df.head()"
   ],
   "id": "dd7aadb2194e5d70",
   "outputs": [
    {
     "data": {
      "text/plain": [
       "   category                                               text  length\n",
       "0  business  [49, 69, 483, 10, 2718, 273, 284, 273, 8, 285,...     247\n",
       "1  business  [338, 763, 3242, 784, 338, 143, 1139, 269, 369...     229\n",
       "2  business  [548, 142, 1761, 124, 1210, 97, 1091, 6754, 64...     159\n",
       "3  business  [88, 1107, 120, 143, 3588, 273, 113, 2719, 121...     245\n",
       "4  business  [4984, 1140, 253, 1141, 6756, 89, 27, 1113, 12...     166"
      ],
      "text/html": [
       "<div>\n",
       "<style scoped>\n",
       "    .dataframe tbody tr th:only-of-type {\n",
       "        vertical-align: middle;\n",
       "    }\n",
       "\n",
       "    .dataframe tbody tr th {\n",
       "        vertical-align: top;\n",
       "    }\n",
       "\n",
       "    .dataframe thead th {\n",
       "        text-align: right;\n",
       "    }\n",
       "</style>\n",
       "<table border=\"1\" class=\"dataframe\">\n",
       "  <thead>\n",
       "    <tr style=\"text-align: right;\">\n",
       "      <th></th>\n",
       "      <th>category</th>\n",
       "      <th>text</th>\n",
       "      <th>length</th>\n",
       "    </tr>\n",
       "  </thead>\n",
       "  <tbody>\n",
       "    <tr>\n",
       "      <th>0</th>\n",
       "      <td>business</td>\n",
       "      <td>[49, 69, 483, 10, 2718, 273, 284, 273, 8, 285,...</td>\n",
       "      <td>247</td>\n",
       "    </tr>\n",
       "    <tr>\n",
       "      <th>1</th>\n",
       "      <td>business</td>\n",
       "      <td>[338, 763, 3242, 784, 338, 143, 1139, 269, 369...</td>\n",
       "      <td>229</td>\n",
       "    </tr>\n",
       "    <tr>\n",
       "      <th>2</th>\n",
       "      <td>business</td>\n",
       "      <td>[548, 142, 1761, 124, 1210, 97, 1091, 6754, 64...</td>\n",
       "      <td>159</td>\n",
       "    </tr>\n",
       "    <tr>\n",
       "      <th>3</th>\n",
       "      <td>business</td>\n",
       "      <td>[88, 1107, 120, 143, 3588, 273, 113, 2719, 121...</td>\n",
       "      <td>245</td>\n",
       "    </tr>\n",
       "    <tr>\n",
       "      <th>4</th>\n",
       "      <td>business</td>\n",
       "      <td>[4984, 1140, 253, 1141, 6756, 89, 27, 1113, 12...</td>\n",
       "      <td>166</td>\n",
       "    </tr>\n",
       "  </tbody>\n",
       "</table>\n",
       "</div>"
      ]
     },
     "execution_count": 12,
     "metadata": {},
     "output_type": "execute_result"
    }
   ],
   "execution_count": 12
  },
  {
   "metadata": {
    "ExecuteTime": {
     "end_time": "2025-04-02T00:22:03.649348Z",
     "start_time": "2025-04-02T00:22:03.635577Z"
    }
   },
   "cell_type": "code",
   "source": [
    "df = df.sample(frac=1, random_state=42).reset_index(drop=True)\n",
    "df.head()"
   ],
   "id": "3a53c6a2bf7e48bf",
   "outputs": [
    {
     "data": {
      "text/plain": [
       "   category                                               text  length\n",
       "0  business  [27, 233, 120, 2055, 514, 27, 233, 120, 2055, ...     217\n",
       "1  business  [1282, 45, 592, 1140, 131, 161, 511, 657, 1282...     224\n",
       "2     sport  [4014, 678, 237, 2972, 41, 612, 5641, 4014, 49...     230\n",
       "3  business  [2474, 89, 1913, 253, 89, 27, 112, 90, 2474, 1...     162\n",
       "4  politics  [174, 2062, 65, 372, 57, 405, 93, 1259, 76, 6,...     305"
      ],
      "text/html": [
       "<div>\n",
       "<style scoped>\n",
       "    .dataframe tbody tr th:only-of-type {\n",
       "        vertical-align: middle;\n",
       "    }\n",
       "\n",
       "    .dataframe tbody tr th {\n",
       "        vertical-align: top;\n",
       "    }\n",
       "\n",
       "    .dataframe thead th {\n",
       "        text-align: right;\n",
       "    }\n",
       "</style>\n",
       "<table border=\"1\" class=\"dataframe\">\n",
       "  <thead>\n",
       "    <tr style=\"text-align: right;\">\n",
       "      <th></th>\n",
       "      <th>category</th>\n",
       "      <th>text</th>\n",
       "      <th>length</th>\n",
       "    </tr>\n",
       "  </thead>\n",
       "  <tbody>\n",
       "    <tr>\n",
       "      <th>0</th>\n",
       "      <td>business</td>\n",
       "      <td>[27, 233, 120, 2055, 514, 27, 233, 120, 2055, ...</td>\n",
       "      <td>217</td>\n",
       "    </tr>\n",
       "    <tr>\n",
       "      <th>1</th>\n",
       "      <td>business</td>\n",
       "      <td>[1282, 45, 592, 1140, 131, 161, 511, 657, 1282...</td>\n",
       "      <td>224</td>\n",
       "    </tr>\n",
       "    <tr>\n",
       "      <th>2</th>\n",
       "      <td>sport</td>\n",
       "      <td>[4014, 678, 237, 2972, 41, 612, 5641, 4014, 49...</td>\n",
       "      <td>230</td>\n",
       "    </tr>\n",
       "    <tr>\n",
       "      <th>3</th>\n",
       "      <td>business</td>\n",
       "      <td>[2474, 89, 1913, 253, 89, 27, 112, 90, 2474, 1...</td>\n",
       "      <td>162</td>\n",
       "    </tr>\n",
       "    <tr>\n",
       "      <th>4</th>\n",
       "      <td>politics</td>\n",
       "      <td>[174, 2062, 65, 372, 57, 405, 93, 1259, 76, 6,...</td>\n",
       "      <td>305</td>\n",
       "    </tr>\n",
       "  </tbody>\n",
       "</table>\n",
       "</div>"
      ]
     },
     "execution_count": 13,
     "metadata": {},
     "output_type": "execute_result"
    }
   ],
   "execution_count": 13
  },
  {
   "metadata": {},
   "cell_type": "markdown",
   "source": "#### Labeling categories",
   "id": "15698fc7a1ee9ee8"
  },
  {
   "metadata": {
    "ExecuteTime": {
     "end_time": "2025-04-02T00:22:07.925007Z",
     "start_time": "2025-04-02T00:22:07.919133Z"
    }
   },
   "cell_type": "code",
   "source": [
    "category_to_label = {\n",
    "    cat: i for i, cat in enumerate(sorted_categories)\n",
    "}\n",
    "\n",
    "category_to_label"
   ],
   "id": "dd96e2b1471cfd0d",
   "outputs": [
    {
     "data": {
      "text/plain": [
       "{'sport': 0, 'business': 1, 'politics': 2, 'tech': 3, 'entertainment': 4}"
      ]
     },
     "execution_count": 14,
     "metadata": {},
     "output_type": "execute_result"
    }
   ],
   "execution_count": 14
  },
  {
   "metadata": {
    "ExecuteTime": {
     "end_time": "2025-04-02T00:22:08.847096Z",
     "start_time": "2025-04-02T00:22:08.833580Z"
    }
   },
   "cell_type": "code",
   "source": [
    "df['category'] = df['category'].apply(lambda cat: category_to_label[cat])\n",
    "df.head()"
   ],
   "id": "f73ca69b45d768d4",
   "outputs": [
    {
     "data": {
      "text/plain": [
       "   category                                               text  length\n",
       "0         1  [27, 233, 120, 2055, 514, 27, 233, 120, 2055, ...     217\n",
       "1         1  [1282, 45, 592, 1140, 131, 161, 511, 657, 1282...     224\n",
       "2         0  [4014, 678, 237, 2972, 41, 612, 5641, 4014, 49...     230\n",
       "3         1  [2474, 89, 1913, 253, 89, 27, 112, 90, 2474, 1...     162\n",
       "4         2  [174, 2062, 65, 372, 57, 405, 93, 1259, 76, 6,...     305"
      ],
      "text/html": [
       "<div>\n",
       "<style scoped>\n",
       "    .dataframe tbody tr th:only-of-type {\n",
       "        vertical-align: middle;\n",
       "    }\n",
       "\n",
       "    .dataframe tbody tr th {\n",
       "        vertical-align: top;\n",
       "    }\n",
       "\n",
       "    .dataframe thead th {\n",
       "        text-align: right;\n",
       "    }\n",
       "</style>\n",
       "<table border=\"1\" class=\"dataframe\">\n",
       "  <thead>\n",
       "    <tr style=\"text-align: right;\">\n",
       "      <th></th>\n",
       "      <th>category</th>\n",
       "      <th>text</th>\n",
       "      <th>length</th>\n",
       "    </tr>\n",
       "  </thead>\n",
       "  <tbody>\n",
       "    <tr>\n",
       "      <th>0</th>\n",
       "      <td>1</td>\n",
       "      <td>[27, 233, 120, 2055, 514, 27, 233, 120, 2055, ...</td>\n",
       "      <td>217</td>\n",
       "    </tr>\n",
       "    <tr>\n",
       "      <th>1</th>\n",
       "      <td>1</td>\n",
       "      <td>[1282, 45, 592, 1140, 131, 161, 511, 657, 1282...</td>\n",
       "      <td>224</td>\n",
       "    </tr>\n",
       "    <tr>\n",
       "      <th>2</th>\n",
       "      <td>0</td>\n",
       "      <td>[4014, 678, 237, 2972, 41, 612, 5641, 4014, 49...</td>\n",
       "      <td>230</td>\n",
       "    </tr>\n",
       "    <tr>\n",
       "      <th>3</th>\n",
       "      <td>1</td>\n",
       "      <td>[2474, 89, 1913, 253, 89, 27, 112, 90, 2474, 1...</td>\n",
       "      <td>162</td>\n",
       "    </tr>\n",
       "    <tr>\n",
       "      <th>4</th>\n",
       "      <td>2</td>\n",
       "      <td>[174, 2062, 65, 372, 57, 405, 93, 1259, 76, 6,...</td>\n",
       "      <td>305</td>\n",
       "    </tr>\n",
       "  </tbody>\n",
       "</table>\n",
       "</div>"
      ]
     },
     "execution_count": 15,
     "metadata": {},
     "output_type": "execute_result"
    }
   ],
   "execution_count": 15
  },
  {
   "metadata": {},
   "cell_type": "markdown",
   "source": [
    "#### Data Loaders\n",
    "First converting to numpy"
   ],
   "id": "6172fd31ee1fb032"
  },
  {
   "metadata": {
    "ExecuteTime": {
     "end_time": "2025-04-02T00:22:10.791224Z",
     "start_time": "2025-04-02T00:22:10.786433Z"
    }
   },
   "cell_type": "code",
   "source": [
    "sequences = df['text'].to_numpy()\n",
    "labels = df['category'].to_numpy()"
   ],
   "id": "15790474423a4666",
   "outputs": [],
   "execution_count": 16
  },
  {
   "metadata": {},
   "cell_type": "markdown",
   "source": "Checking if each sequence is paired with label correctly",
   "id": "2d6bd820469786ed"
  },
  {
   "metadata": {
    "ExecuteTime": {
     "end_time": "2025-04-02T00:22:23.423337Z",
     "start_time": "2025-04-02T00:22:23.416789Z"
    }
   },
   "cell_type": "code",
   "source": [
    "mismatches = df[df['text'] != sequences]\n",
    "if not mismatches.empty:\n",
    "    print(mismatches.iloc[0], sequences[mismatches.index[0]])\n",
    "    \n",
    "mismatches = df[df['category'] != labels]\n",
    "if not mismatches.empty:\n",
    "    print(mismatches.iloc[0], sequences[mismatches.index[0]])"
   ],
   "id": "22dcb8d5332b3340",
   "outputs": [],
   "execution_count": 17
  },
  {
   "metadata": {},
   "cell_type": "markdown",
   "source": "Train / Test split",
   "id": "d0451e0e0a0de7ec"
  },
  {
   "metadata": {
    "ExecuteTime": {
     "end_time": "2025-04-02T00:22:25.054765Z",
     "start_time": "2025-04-02T00:22:25.049194Z"
    }
   },
   "cell_type": "code",
   "source": [
    "train_size = int(len(df) * 0.7)\n",
    "\n",
    "train_split = sequences[:train_size], labels[:train_size]\n",
    "test_split = sequences[train_size:], labels[train_size:]"
   ],
   "id": "417b8e8867fabc27",
   "outputs": [],
   "execution_count": 18
  },
  {
   "metadata": {},
   "cell_type": "markdown",
   "source": "Length check",
   "id": "fa548ccf821718a5"
  },
  {
   "metadata": {
    "ExecuteTime": {
     "end_time": "2025-04-02T00:22:58.284332Z",
     "start_time": "2025-04-02T00:22:58.277964Z"
    }
   },
   "cell_type": "code",
   "source": "len(test_split[0]) + len(train_split[0]) == len(df)",
   "id": "30e20eed196b1bee",
   "outputs": [
    {
     "data": {
      "text/plain": [
       "True"
      ]
     },
     "execution_count": 19,
     "metadata": {},
     "output_type": "execute_result"
    }
   ],
   "execution_count": 19
  },
  {
   "metadata": {},
   "cell_type": "markdown",
   "source": [
    "x - sequence <br>\n",
    "y - label <br>\n",
    "z - length, this will be used later in _pack_padded_sequence_ to separate the sequence from padding tokens<br> "
   ],
   "id": "912f91f75c49afcc"
  },
  {
   "metadata": {
    "ExecuteTime": {
     "end_time": "2025-04-02T00:22:59.549906Z",
     "start_time": "2025-04-02T00:22:59.542649Z"
    }
   },
   "cell_type": "code",
   "source": [
    "from torch.utils.data import TensorDataset, DataLoader\n",
    "\n",
    "def return_loader(dataset, batch_size=8):\n",
    "\n",
    "    sequences, labels = dataset\n",
    "        \n",
    "    x, y, z = [], [], []\n",
    "    \n",
    "    for sequence, label in zip(sequences, labels):\n",
    "        x.append(sequence)\n",
    "        y.append(label)\n",
    "        z.append(np.count_nonzero(sequence))\n",
    "        \n",
    "    tensor_dataset = TensorDataset(torch.tensor(x).long(),\n",
    "                                   torch.tensor(z).long(),\n",
    "                                   torch.tensor(y).long())\n",
    "    \n",
    "    return DataLoader(tensor_dataset, batch_size=batch_size, drop_last=True, shuffle=True)"
   ],
   "id": "f3a811002852d32a",
   "outputs": [],
   "execution_count": 20
  },
  {
   "metadata": {
    "ExecuteTime": {
     "end_time": "2025-04-02T01:21:15.426518Z",
     "start_time": "2025-04-02T01:21:14.450683Z"
    }
   },
   "cell_type": "code",
   "source": [
    "train_loader  = return_loader(dataset=train_split, batch_size=32)\n",
    "test_loader = return_loader(dataset=test_split, batch_size=32)"
   ],
   "id": "ccda7ec70df24927",
   "outputs": [],
   "execution_count": 183
  },
  {
   "metadata": {},
   "cell_type": "markdown",
   "source": [
    "Checks if there are 0 length sequences (empty sequences). <br>\n",
    "I processed sequences before and there's a small chance that sequence was built mainly from stopwords or other 'irrelevant' words. <br>\n",
    "That actually lead me before to an Error where the Model received empty sequence with length 0."
   ],
   "id": "db069c7c3f7d6279"
  },
  {
   "metadata": {
    "ExecuteTime": {
     "end_time": "2025-04-02T01:21:21.075447Z",
     "start_time": "2025-04-02T01:21:21.008197Z"
    }
   },
   "cell_type": "code",
   "source": [
    "for batch in train_loader:\n",
    "    inputs, lengths, targets = batch\n",
    "    \n",
    "    for i in range(32):\n",
    "        if 0 in lengths[i]:\n",
    "            print(inputs[i], targets[i], lengths[i])"
   ],
   "id": "eb5c1e53dbd4d73e",
   "outputs": [],
   "execution_count": 185
  },
  {
   "metadata": {},
   "cell_type": "markdown",
   "source": [
    "# The Model\n",
    "I've used RNN with **LSTM** architecture. <br>\n",
    "_Dropout_ is applied to the last hidden state _(hidden[-1])_ right before the final linear layer, <br>\n",
    "but not to the output predictions themselves. <br>\n",
    "For the forward function we pass the _**X**_ and it's _**lengths**_ that I discussed before."
   ],
   "id": "9cfa0dd661644805"
  },
  {
   "metadata": {
    "ExecuteTime": {
     "end_time": "2025-04-02T01:21:22.502119Z",
     "start_time": "2025-04-02T01:21:22.489062Z"
    }
   },
   "cell_type": "code",
   "source": [
    "from sklearn.utils.class_weight import compute_class_weight\n",
    "\n",
    "class_weights = compute_class_weight(\n",
    "    'balanced',\n",
    "    classes=np.unique(df['category']),\n",
    "    y=df['category']\n",
    ")\n",
    "\n",
    "class_weights"
   ],
   "id": "4c38da485718dc3c",
   "outputs": [
    {
     "data": {
      "text/plain": [
       "array([0.87084149, 0.87254902, 1.06714628, 1.10972569, 1.15284974])"
      ]
     },
     "execution_count": 186,
     "metadata": {},
     "output_type": "execute_result"
    }
   ],
   "execution_count": 186
  },
  {
   "metadata": {
    "ExecuteTime": {
     "end_time": "2025-04-02T01:21:23.435131Z",
     "start_time": "2025-04-02T01:21:23.426338Z"
    }
   },
   "cell_type": "code",
   "source": [
    "from torch import nn\n",
    "import torch.nn.utils.rnn as rnn_utils\n",
    "\n",
    "class RNN(nn.Module):\n",
    "    def __init__(self, vocab_size, embed_size, hidden_size, output_size, n_layers=1, dropout_rate=0.2):\n",
    "        super(RNN, self).__init__()\n",
    "        self.embedding = nn.Embedding(vocab_size, embed_size, padding_idx=0)\n",
    "        self.rnn = nn.LSTM(input_size=embed_size, hidden_size=hidden_size, num_layers=n_layers, batch_first=True)\n",
    "        self.fc = nn.Linear(hidden_size, output_size)\n",
    "        self.dropout = nn.Dropout(dropout_rate)\n",
    "\n",
    "    def forward(self, x, lengths):\n",
    "        x = self.embedding(x)\n",
    "\n",
    "        x = rnn_utils.pack_padded_sequence(x, lengths, batch_first=True, enforce_sorted=False)\n",
    "    \n",
    "        rnn_out, (hidden, cell) = self.rnn(x)    \n",
    "    \n",
    "        hidden = self.dropout(hidden[-1])\n",
    "        output = self.fc(hidden)\n",
    "        \n",
    "        return output"
   ],
   "id": "478bc40242bb2ad1",
   "outputs": [],
   "execution_count": 187
  },
  {
   "metadata": {},
   "cell_type": "markdown",
   "source": "Training function",
   "id": "950d90adc51cf2fb"
  },
  {
   "metadata": {
    "ExecuteTime": {
     "end_time": "2025-04-02T01:21:33.253043Z",
     "start_time": "2025-04-02T01:21:33.234405Z"
    }
   },
   "cell_type": "code",
   "source": [
    "from torch import optim\n",
    "import copy\n",
    "\n",
    "def train_model(model, data_loader, class_weights, n_epochs=1, learning_rate=0.001, decay=0.01):\n",
    "    \n",
    "    device = torch.device('cuda') if torch.cuda.is_available() else 'cpu'\n",
    "        \n",
    "    model.to(device)\n",
    "    class_weights = torch.FloatTensor(class_weights).to(device)\n",
    "    criterion = nn.CrossEntropyLoss(weight=class_weights)\n",
    "    optimizer = optim.Adam(params=model.parameters(), lr=learning_rate)\n",
    "    \n",
    "    loss_history = []\n",
    "    acc_history = []\n",
    "    best_loss = float('inf')\n",
    "    best_weights = copy.deepcopy(model.state_dict()) # init weights\n",
    "    best_epoch = 0\n",
    "    \n",
    "    for epoch in range(n_epochs):\n",
    "        \n",
    "        model.train()\n",
    "        total_loss = 0\n",
    "        \n",
    "        correct = 0\n",
    "        total_samples = 0\n",
    "        \n",
    "        for i, batch in enumerate(data_loader):\n",
    "            inputs, lengths, targets = batch\n",
    "            inputs, targets = (inputs.to(device).long(), targets.to(device).long()) # convert to torch.int64\n",
    "            lengths = lengths.cpu() # move lengths to cpu\n",
    "            \n",
    "            optimizer.zero_grad()\n",
    "            outputs = model(inputs, lengths)\n",
    "            \n",
    "            # accuracy calculation\n",
    "            _, predicted = torch.max(outputs.data, 1)\n",
    "            correct += (predicted == targets).sum().item()\n",
    "            total_samples += targets.size(0)\n",
    "            \n",
    "            loss = criterion(outputs, targets)\n",
    "            loss.backward()\n",
    "            optimizer.step()\n",
    "            \n",
    "            total_loss += loss.item()\n",
    "        \n",
    "        avg_loss = total_loss / len(data_loader)\n",
    "        avg_accuracy = correct / total_samples\n",
    "        loss_history.append(avg_loss)\n",
    "        acc_history.append(avg_accuracy)\n",
    "        \n",
    "        if avg_loss < best_loss:\n",
    "            best_loss = avg_loss\n",
    "            best_weights = copy.deepcopy(model.state_dict())\n",
    "            best_epoch = epoch + 1\n",
    "        \n",
    "        print(\n",
    "            f\"Epoch: {epoch+1:0>2} / {n_epochs}  |  Loss: {avg_loss:.4f}  |  Accuracy: {avg_accuracy:.4f}\"\n",
    "        )\n",
    "        \n",
    "    model.load_state_dict(best_weights) # apply best weights\n",
    "    \n",
    "    return loss_history, acc_history, best_weights, best_epoch"
   ],
   "id": "e1c873ad8fd34561",
   "outputs": [],
   "execution_count": 189
  },
  {
   "metadata": {
    "ExecuteTime": {
     "end_time": "2025-04-02T01:21:33.775127Z",
     "start_time": "2025-04-02T01:21:33.764344Z"
    }
   },
   "cell_type": "code",
   "source": [
    "def test_model(model, data_loader):\n",
    "\n",
    "    device = torch.device('cuda') if torch.cuda.is_available() else 'cpu'\n",
    "    model.to(device)\n",
    "\n",
    "    model.eval()\n",
    "\n",
    "    y_true = []\n",
    "    y_pred = []\n",
    "\n",
    "    with torch.no_grad():\n",
    "        for inputs, lengths, targets in data_loader:\n",
    "            inputs, targets = inputs.to(device).long(), targets.to(device).long()\n",
    "            lengths = lengths.cpu()\n",
    "            \n",
    "            outputs = model(inputs, lengths)\n",
    "            _, predicted = torch.max(outputs.data, 1)\n",
    "\n",
    "            y_true.extend(targets.cpu().numpy())\n",
    "            y_pred.extend(predicted.cpu().numpy())\n",
    "\n",
    "    return y_true, y_pred"
   ],
   "id": "929f4b08e32ef326",
   "outputs": [],
   "execution_count": 190
  },
  {
   "metadata": {},
   "cell_type": "markdown",
   "source": [
    "# Training\n",
    "Setting up model"
   ],
   "id": "46037c0a6fe88292"
  },
  {
   "metadata": {
    "ExecuteTime": {
     "end_time": "2025-04-02T01:21:40.135776Z",
     "start_time": "2025-04-02T01:21:40.020266Z"
    }
   },
   "cell_type": "code",
   "source": [
    "rnn_model = RNN(vocab_size=len(word_to_idx),\n",
    "                embed_size=512,\n",
    "                hidden_size=512,\n",
    "                dropout_rate=0.3,\n",
    "                n_layers=1,\n",
    "                output_size=5)"
   ],
   "id": "48762a124306006b",
   "outputs": [],
   "execution_count": 192
  },
  {
   "metadata": {
    "ExecuteTime": {
     "end_time": "2025-04-02T01:22:34.272748Z",
     "start_time": "2025-04-02T01:21:43.710566Z"
    }
   },
   "cell_type": "code",
   "source": [
    "train_history = train_model(\n",
    "    model=rnn_model,\n",
    "    class_weights=class_weights,\n",
    "    data_loader=train_loader,\n",
    "    n_epochs=20,\n",
    "    learning_rate=0.0001, # <<<\n",
    "    decay=0\n",
    ")"
   ],
   "id": "82ee4f3831b7dcc0",
   "outputs": [
    {
     "name": "stdout",
     "output_type": "stream",
     "text": [
      "Epoch: 01 / 20  |  Loss: 1.5947  |  Accuracy: 0.2617\n",
      "Epoch: 02 / 20  |  Loss: 1.5198  |  Accuracy: 0.4987\n",
      "Epoch: 03 / 20  |  Loss: 1.4448  |  Accuracy: 0.6348\n",
      "Epoch: 04 / 20  |  Loss: 1.3487  |  Accuracy: 0.7240\n",
      "Epoch: 05 / 20  |  Loss: 1.1659  |  Accuracy: 0.7917\n",
      "Epoch: 06 / 20  |  Loss: 0.6919  |  Accuracy: 0.8275\n",
      "Epoch: 07 / 20  |  Loss: 0.5929  |  Accuracy: 0.8223\n",
      "Epoch: 08 / 20  |  Loss: 0.4163  |  Accuracy: 0.8750\n",
      "Epoch: 09 / 20  |  Loss: 0.2793  |  Accuracy: 0.9258\n",
      "Epoch: 10 / 20  |  Loss: 0.1994  |  Accuracy: 0.9512\n",
      "Epoch: 11 / 20  |  Loss: 0.1261  |  Accuracy: 0.9714\n",
      "Epoch: 12 / 20  |  Loss: 0.1545  |  Accuracy: 0.9590\n",
      "Epoch: 13 / 20  |  Loss: 0.1509  |  Accuracy: 0.9577\n",
      "Epoch: 14 / 20  |  Loss: 0.1048  |  Accuracy: 0.9792\n",
      "Epoch: 15 / 20  |  Loss: 0.0631  |  Accuracy: 0.9844\n",
      "Epoch: 16 / 20  |  Loss: 0.0763  |  Accuracy: 0.9863\n",
      "Epoch: 17 / 20  |  Loss: 0.0509  |  Accuracy: 0.9876\n",
      "Epoch: 18 / 20  |  Loss: 0.0316  |  Accuracy: 0.9922\n",
      "Epoch: 19 / 20  |  Loss: 0.0256  |  Accuracy: 0.9935\n",
      "Epoch: 20 / 20  |  Loss: 0.0437  |  Accuracy: 0.9909\n"
     ]
    }
   ],
   "execution_count": 193
  },
  {
   "metadata": {
    "ExecuteTime": {
     "end_time": "2025-04-02T01:22:37.455094Z",
     "start_time": "2025-04-02T01:22:37.164742Z"
    }
   },
   "cell_type": "code",
   "source": [
    "loss_history, acc_history, best_weights, best_epoch = train_history\n",
    "scaled_loss = [l/max(loss_history) for l in loss_history]\n",
    "scaled_acc = [a/max(acc_history) for a in acc_history]\n",
    "\n",
    "fig, axes = plt.subplots(figsize=(20, 6))\n",
    "\n",
    "sb.lineplot(acc_history, label='Accuracy', color=mid_blue)\n",
    "sb.lineplot(scaled_loss, label='Loss', color=mid_red)\n",
    "axes.axvline(x=best_epoch-1, ls=':', lw=1, color='green', label='Best Weights')\n",
    "\n",
    "plt.xlim((-1, 20))\n",
    "plt.ylim((0, 1))\n",
    "plt.title('Accuracy v Loss')\n",
    "plt.xlabel('Epoch')\n",
    "plt.tight_layout()"
   ],
   "id": "54d07a067568bf48",
   "outputs": [
    {
     "data": {
      "text/plain": [
       "<Figure size 2000x600 with 1 Axes>"
      ],
      "image/png": "[encoded data removed]"
     },
     "metadata": {},
     "output_type": "display_data"
    }
   ],
   "execution_count": 194
  },
  {
   "metadata": {},
   "cell_type": "markdown",
   "source": "# Testing",
   "id": "be15ddc99916bac5"
  },
  {
   "metadata": {
    "ExecuteTime": {
     "end_time": "2025-04-02T01:22:39.660287Z",
     "start_time": "2025-04-02T01:22:38.926372Z"
    }
   },
   "cell_type": "code",
   "source": [
    "from sklearn.metrics import classification_report, confusion_matrix\n",
    "\n",
    "y_true, y_pred = test_model(model=rnn_model, data_loader=test_loader)\n",
    "cm = confusion_matrix(y_true, y_pred)\n",
    "print(classification_report(y_true, y_pred, target_names=category_to_label))"
   ],
   "id": "f49f492c2466140a",
   "outputs": [
    {
     "name": "stdout",
     "output_type": "stream",
     "text": [
      "               precision    recall  f1-score   support\n",
      "\n",
      "        sport       0.96      0.98      0.97       139\n",
      "     business       0.91      0.94      0.92       124\n",
      "     politics       0.90      0.90      0.90       135\n",
      "         tech       0.88      0.93      0.90       127\n",
      "entertainment       0.95      0.84      0.89       115\n",
      "\n",
      "     accuracy                           0.92       640\n",
      "    macro avg       0.92      0.92      0.92       640\n",
      " weighted avg       0.92      0.92      0.92       640\n",
      "\n"
     ]
    }
   ],
   "execution_count": 195
  },
  {
   "metadata": {
    "ExecuteTime": {
     "end_time": "2025-04-02T01:22:42.751344Z",
     "start_time": "2025-04-02T01:22:42.360229Z"
    }
   },
   "cell_type": "code",
   "source": [
    "fig = plt.figure(figsize=(6, 6))\n",
    "sb.heatmap(cm, cbar=False, cmap='Greys_r', annot=True, fmt='d')\n",
    "plt.ylabel('Actual')\n",
    "plt.xlabel('Predicted')\n",
    "plt.tight_layout()"
   ],
   "id": "2cc83a9d0b0f3856",
   "outputs": [
    {
     "data": {
      "text/plain": [
       "<Figure size 600x600 with 1 Axes>"
      ],
      "image/png": "[encoded data removed]"
     },
     "metadata": {},
     "output_type": "display_data"
    }
   ],
   "execution_count": 196
  },
  {
   "metadata": {
    "ExecuteTime": {
     "end_time": "2025-04-02T01:23:24.736260Z",
     "start_time": "2025-04-02T01:23:24.630720Z"
    }
   },
   "cell_type": "code",
   "source": "torch.save(rnn_model, '../models/rnn_model_v0.3.pt')",
   "id": "77e9370e80a3333a",
   "outputs": [],
   "execution_count": 197
  }
 ],
 "metadata": {
  "kernelspec": {
   "display_name": "Python 3",
   "language": "python",
   "name": "python3"
  },
  "language_info": {
   "codemirror_mode": {
    "name": "ipython",
    "version": 2
   },
   "file_extension": ".py",
   "mimetype": "text/x-python",
   "name": "python",
   "nbconvert_exporter": "python",
   "pygments_lexer": "ipython2",
   "version": "2.7.6"
  }
 },
 "nbformat": 4,
 "nbformat_minor": 5
}
