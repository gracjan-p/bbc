{
 "cells": [
  {
   "cell_type": "code",
   "id": "initial_id",
   "metadata": {
    "collapsed": true,
    "ExecuteTime": {
     "end_time": "2025-03-12T00:20:11.854829Z",
     "start_time": "2025-03-12T00:20:08.344086Z"
    }
   },
   "source": [
    "import torch\n",
    "import warnings\n",
    "warnings.filterwarnings(\"ignore\")\n",
    "torch.cuda.is_available()"
   ],
   "outputs": [
    {
     "data": {
      "text/plain": [
       "True"
      ]
     },
     "execution_count": 1,
     "metadata": {},
     "output_type": "execute_result"
    }
   ],
   "execution_count": 1
  },
  {
   "metadata": {
    "ExecuteTime": {
     "end_time": "2025-03-12T00:20:13.212932Z",
     "start_time": "2025-03-12T00:20:11.854829Z"
    }
   },
   "cell_type": "code",
   "source": [
    "import pandas as pd\n",
    "\n",
    "df = pd.read_json('..\\\\datasets\\\\headlines.json', lines=True)\n",
    "df"
   ],
   "id": "ab1c928658946f1a",
   "outputs": [
    {
     "data": {
      "text/plain": [
       "                                                     link  \\\n",
       "0       https://www.huffpost.com/entry/covid-boosters-...   \n",
       "1       https://www.huffpost.com/entry/american-airlin...   \n",
       "2       https://www.huffpost.com/entry/funniest-tweets...   \n",
       "3       https://www.huffpost.com/entry/funniest-parent...   \n",
       "4       https://www.huffpost.com/entry/amy-cooper-lose...   \n",
       "...                                                   ...   \n",
       "209522  https://www.huffingtonpost.com/entry/rim-ceo-t...   \n",
       "209523  https://www.huffingtonpost.com/entry/maria-sha...   \n",
       "209524  https://www.huffingtonpost.com/entry/super-bow...   \n",
       "209525  https://www.huffingtonpost.com/entry/aldon-smi...   \n",
       "209526  https://www.huffingtonpost.com/entry/dwight-ho...   \n",
       "\n",
       "                                                 headline   category  \\\n",
       "0       Over 4 Million Americans Roll Up Sleeves For O...  U.S. NEWS   \n",
       "1       American Airlines Flyer Charged, Banned For Li...  U.S. NEWS   \n",
       "2       23 Of The Funniest Tweets About Cats And Dogs ...     COMEDY   \n",
       "3       The Funniest Tweets From Parents This Week (Se...  PARENTING   \n",
       "4       Woman Who Called Cops On Black Bird-Watcher Lo...  U.S. NEWS   \n",
       "...                                                   ...        ...   \n",
       "209522  RIM CEO Thorsten Heins' 'Significant' Plans Fo...       TECH   \n",
       "209523  Maria Sharapova Stunned By Victoria Azarenka I...     SPORTS   \n",
       "209524  Giants Over Patriots, Jets Over Colts Among  M...     SPORTS   \n",
       "209525  Aldon Smith Arrested: 49ers Linebacker Busted ...     SPORTS   \n",
       "209526  Dwight Howard Rips Teammates After Magic Loss ...     SPORTS   \n",
       "\n",
       "                                        short_description  \\\n",
       "0       Health experts said it is too early to predict...   \n",
       "1       He was subdued by passengers and crew when he ...   \n",
       "2       \"Until you have a dog you don't understand wha...   \n",
       "3       \"Accidentally put grown-up toothpaste on my to...   \n",
       "4       Amy Cooper accused investment firm Franklin Te...   \n",
       "...                                                   ...   \n",
       "209522  Verizon Wireless and AT&T are already promotin...   \n",
       "209523  Afterward, Azarenka, more effusive with the pr...   \n",
       "209524  Leading up to Super Bowl XLVI, the most talked...   \n",
       "209525  CORRECTION: An earlier version of this story i...   \n",
       "209526  The five-time all-star center tore into his te...   \n",
       "\n",
       "                     authors       date  \n",
       "0       Carla K. Johnson, AP 2022-09-23  \n",
       "1             Mary Papenfuss 2022-09-23  \n",
       "2              Elyse Wanshel 2022-09-23  \n",
       "3           Caroline Bologna 2022-09-23  \n",
       "4             Nina Golgowski 2022-09-22  \n",
       "...                      ...        ...  \n",
       "209522      Reuters, Reuters 2012-01-28  \n",
       "209523                       2012-01-28  \n",
       "209524                       2012-01-28  \n",
       "209525                       2012-01-28  \n",
       "209526                       2012-01-28  \n",
       "\n",
       "[209527 rows x 6 columns]"
      ],
      "text/html": [
       "<div>\n",
       "<style scoped>\n",
       "    .dataframe tbody tr th:only-of-type {\n",
       "        vertical-align: middle;\n",
       "    }\n",
       "\n",
       "    .dataframe tbody tr th {\n",
       "        vertical-align: top;\n",
       "    }\n",
       "\n",
       "    .dataframe thead th {\n",
       "        text-align: right;\n",
       "    }\n",
       "</style>\n",
       "<table border=\"1\" class=\"dataframe\">\n",
       "  <thead>\n",
       "    <tr style=\"text-align: right;\">\n",
       "      <th></th>\n",
       "      <th>link</th>\n",
       "      <th>headline</th>\n",
       "      <th>category</th>\n",
       "      <th>short_description</th>\n",
       "      <th>authors</th>\n",
       "      <th>date</th>\n",
       "    </tr>\n",
       "  </thead>\n",
       "  <tbody>\n",
       "    <tr>\n",
       "      <th>0</th>\n",
       "      <td>https://www.huffpost.com/entry/covid-boosters-...</td>\n",
       "      <td>Over 4 Million Americans Roll Up Sleeves For O...</td>\n",
       "      <td>U.S. NEWS</td>\n",
       "      <td>Health experts said it is too early to predict...</td>\n",
       "      <td>Carla K. Johnson, AP</td>\n",
       "      <td>2022-09-23</td>\n",
       "    </tr>\n",
       "    <tr>\n",
       "      <th>1</th>\n",
       "      <td>https://www.huffpost.com/entry/american-airlin...</td>\n",
       "      <td>American Airlines Flyer Charged, Banned For Li...</td>\n",
       "      <td>U.S. NEWS</td>\n",
       "      <td>He was subdued by passengers and crew when he ...</td>\n",
       "      <td>Mary Papenfuss</td>\n",
       "      <td>2022-09-23</td>\n",
       "    </tr>\n",
       "    <tr>\n",
       "      <th>2</th>\n",
       "      <td>https://www.huffpost.com/entry/funniest-tweets...</td>\n",
       "      <td>23 Of The Funniest Tweets About Cats And Dogs ...</td>\n",
       "      <td>COMEDY</td>\n",
       "      <td>\"Until you have a dog you don't understand wha...</td>\n",
       "      <td>Elyse Wanshel</td>\n",
       "      <td>2022-09-23</td>\n",
       "    </tr>\n",
       "    <tr>\n",
       "      <th>3</th>\n",
       "      <td>https://www.huffpost.com/entry/funniest-parent...</td>\n",
       "      <td>The Funniest Tweets From Parents This Week (Se...</td>\n",
       "      <td>PARENTING</td>\n",
       "      <td>\"Accidentally put grown-up toothpaste on my to...</td>\n",
       "      <td>Caroline Bologna</td>\n",
       "      <td>2022-09-23</td>\n",
       "    </tr>\n",
       "    <tr>\n",
       "      <th>4</th>\n",
       "      <td>https://www.huffpost.com/entry/amy-cooper-lose...</td>\n",
       "      <td>Woman Who Called Cops On Black Bird-Watcher Lo...</td>\n",
       "      <td>U.S. NEWS</td>\n",
       "      <td>Amy Cooper accused investment firm Franklin Te...</td>\n",
       "      <td>Nina Golgowski</td>\n",
       "      <td>2022-09-22</td>\n",
       "    </tr>\n",
       "    <tr>\n",
       "      <th>...</th>\n",
       "      <td>...</td>\n",
       "      <td>...</td>\n",
       "      <td>...</td>\n",
       "      <td>...</td>\n",
       "      <td>...</td>\n",
       "      <td>...</td>\n",
       "    </tr>\n",
       "    <tr>\n",
       "      <th>209522</th>\n",
       "      <td>https://www.huffingtonpost.com/entry/rim-ceo-t...</td>\n",
       "      <td>RIM CEO Thorsten Heins' 'Significant' Plans Fo...</td>\n",
       "      <td>TECH</td>\n",
       "      <td>Verizon Wireless and AT&amp;T are already promotin...</td>\n",
       "      <td>Reuters, Reuters</td>\n",
       "      <td>2012-01-28</td>\n",
       "    </tr>\n",
       "    <tr>\n",
       "      <th>209523</th>\n",
       "      <td>https://www.huffingtonpost.com/entry/maria-sha...</td>\n",
       "      <td>Maria Sharapova Stunned By Victoria Azarenka I...</td>\n",
       "      <td>SPORTS</td>\n",
       "      <td>Afterward, Azarenka, more effusive with the pr...</td>\n",
       "      <td></td>\n",
       "      <td>2012-01-28</td>\n",
       "    </tr>\n",
       "    <tr>\n",
       "      <th>209524</th>\n",
       "      <td>https://www.huffingtonpost.com/entry/super-bow...</td>\n",
       "      <td>Giants Over Patriots, Jets Over Colts Among  M...</td>\n",
       "      <td>SPORTS</td>\n",
       "      <td>Leading up to Super Bowl XLVI, the most talked...</td>\n",
       "      <td></td>\n",
       "      <td>2012-01-28</td>\n",
       "    </tr>\n",
       "    <tr>\n",
       "      <th>209525</th>\n",
       "      <td>https://www.huffingtonpost.com/entry/aldon-smi...</td>\n",
       "      <td>Aldon Smith Arrested: 49ers Linebacker Busted ...</td>\n",
       "      <td>SPORTS</td>\n",
       "      <td>CORRECTION: An earlier version of this story i...</td>\n",
       "      <td></td>\n",
       "      <td>2012-01-28</td>\n",
       "    </tr>\n",
       "    <tr>\n",
       "      <th>209526</th>\n",
       "      <td>https://www.huffingtonpost.com/entry/dwight-ho...</td>\n",
       "      <td>Dwight Howard Rips Teammates After Magic Loss ...</td>\n",
       "      <td>SPORTS</td>\n",
       "      <td>The five-time all-star center tore into his te...</td>\n",
       "      <td></td>\n",
       "      <td>2012-01-28</td>\n",
       "    </tr>\n",
       "  </tbody>\n",
       "</table>\n",
       "<p>209527 rows × 6 columns</p>\n",
       "</div>"
      ]
     },
     "execution_count": 2,
     "metadata": {},
     "output_type": "execute_result"
    }
   ],
   "execution_count": 2
  },
  {
   "metadata": {
    "ExecuteTime": {
     "end_time": "2025-03-12T00:20:13.239135Z",
     "start_time": "2025-03-12T00:20:13.214455Z"
    }
   },
   "cell_type": "code",
   "source": [
    "df = df[['headline', 'short_description', 'category']]\n",
    "df"
   ],
   "id": "b6a6ba81b18c8866",
   "outputs": [
    {
     "data": {
      "text/plain": [
       "                                                 headline  \\\n",
       "0       Over 4 Million Americans Roll Up Sleeves For O...   \n",
       "1       American Airlines Flyer Charged, Banned For Li...   \n",
       "2       23 Of The Funniest Tweets About Cats And Dogs ...   \n",
       "3       The Funniest Tweets From Parents This Week (Se...   \n",
       "4       Woman Who Called Cops On Black Bird-Watcher Lo...   \n",
       "...                                                   ...   \n",
       "209522  RIM CEO Thorsten Heins' 'Significant' Plans Fo...   \n",
       "209523  Maria Sharapova Stunned By Victoria Azarenka I...   \n",
       "209524  Giants Over Patriots, Jets Over Colts Among  M...   \n",
       "209525  Aldon Smith Arrested: 49ers Linebacker Busted ...   \n",
       "209526  Dwight Howard Rips Teammates After Magic Loss ...   \n",
       "\n",
       "                                        short_description   category  \n",
       "0       Health experts said it is too early to predict...  U.S. NEWS  \n",
       "1       He was subdued by passengers and crew when he ...  U.S. NEWS  \n",
       "2       \"Until you have a dog you don't understand wha...     COMEDY  \n",
       "3       \"Accidentally put grown-up toothpaste on my to...  PARENTING  \n",
       "4       Amy Cooper accused investment firm Franklin Te...  U.S. NEWS  \n",
       "...                                                   ...        ...  \n",
       "209522  Verizon Wireless and AT&T are already promotin...       TECH  \n",
       "209523  Afterward, Azarenka, more effusive with the pr...     SPORTS  \n",
       "209524  Leading up to Super Bowl XLVI, the most talked...     SPORTS  \n",
       "209525  CORRECTION: An earlier version of this story i...     SPORTS  \n",
       "209526  The five-time all-star center tore into his te...     SPORTS  \n",
       "\n",
       "[209527 rows x 3 columns]"
      ],
      "text/html": [
       "<div>\n",
       "<style scoped>\n",
       "    .dataframe tbody tr th:only-of-type {\n",
       "        vertical-align: middle;\n",
       "    }\n",
       "\n",
       "    .dataframe tbody tr th {\n",
       "        vertical-align: top;\n",
       "    }\n",
       "\n",
       "    .dataframe thead th {\n",
       "        text-align: right;\n",
       "    }\n",
       "</style>\n",
       "<table border=\"1\" class=\"dataframe\">\n",
       "  <thead>\n",
       "    <tr style=\"text-align: right;\">\n",
       "      <th></th>\n",
       "      <th>headline</th>\n",
       "      <th>short_description</th>\n",
       "      <th>category</th>\n",
       "    </tr>\n",
       "  </thead>\n",
       "  <tbody>\n",
       "    <tr>\n",
       "      <th>0</th>\n",
       "      <td>Over 4 Million Americans Roll Up Sleeves For O...</td>\n",
       "      <td>Health experts said it is too early to predict...</td>\n",
       "      <td>U.S. NEWS</td>\n",
       "    </tr>\n",
       "    <tr>\n",
       "      <th>1</th>\n",
       "      <td>American Airlines Flyer Charged, Banned For Li...</td>\n",
       "      <td>He was subdued by passengers and crew when he ...</td>\n",
       "      <td>U.S. NEWS</td>\n",
       "    </tr>\n",
       "    <tr>\n",
       "      <th>2</th>\n",
       "      <td>23 Of The Funniest Tweets About Cats And Dogs ...</td>\n",
       "      <td>\"Until you have a dog you don't understand wha...</td>\n",
       "      <td>COMEDY</td>\n",
       "    </tr>\n",
       "    <tr>\n",
       "      <th>3</th>\n",
       "      <td>The Funniest Tweets From Parents This Week (Se...</td>\n",
       "      <td>\"Accidentally put grown-up toothpaste on my to...</td>\n",
       "      <td>PARENTING</td>\n",
       "    </tr>\n",
       "    <tr>\n",
       "      <th>4</th>\n",
       "      <td>Woman Who Called Cops On Black Bird-Watcher Lo...</td>\n",
       "      <td>Amy Cooper accused investment firm Franklin Te...</td>\n",
       "      <td>U.S. NEWS</td>\n",
       "    </tr>\n",
       "    <tr>\n",
       "      <th>...</th>\n",
       "      <td>...</td>\n",
       "      <td>...</td>\n",
       "      <td>...</td>\n",
       "    </tr>\n",
       "    <tr>\n",
       "      <th>209522</th>\n",
       "      <td>RIM CEO Thorsten Heins' 'Significant' Plans Fo...</td>\n",
       "      <td>Verizon Wireless and AT&amp;T are already promotin...</td>\n",
       "      <td>TECH</td>\n",
       "    </tr>\n",
       "    <tr>\n",
       "      <th>209523</th>\n",
       "      <td>Maria Sharapova Stunned By Victoria Azarenka I...</td>\n",
       "      <td>Afterward, Azarenka, more effusive with the pr...</td>\n",
       "      <td>SPORTS</td>\n",
       "    </tr>\n",
       "    <tr>\n",
       "      <th>209524</th>\n",
       "      <td>Giants Over Patriots, Jets Over Colts Among  M...</td>\n",
       "      <td>Leading up to Super Bowl XLVI, the most talked...</td>\n",
       "      <td>SPORTS</td>\n",
       "    </tr>\n",
       "    <tr>\n",
       "      <th>209525</th>\n",
       "      <td>Aldon Smith Arrested: 49ers Linebacker Busted ...</td>\n",
       "      <td>CORRECTION: An earlier version of this story i...</td>\n",
       "      <td>SPORTS</td>\n",
       "    </tr>\n",
       "    <tr>\n",
       "      <th>209526</th>\n",
       "      <td>Dwight Howard Rips Teammates After Magic Loss ...</td>\n",
       "      <td>The five-time all-star center tore into his te...</td>\n",
       "      <td>SPORTS</td>\n",
       "    </tr>\n",
       "  </tbody>\n",
       "</table>\n",
       "<p>209527 rows × 3 columns</p>\n",
       "</div>"
      ]
     },
     "execution_count": 3,
     "metadata": {},
     "output_type": "execute_result"
    }
   ],
   "execution_count": 3
  },
  {
   "metadata": {
    "ExecuteTime": {
     "end_time": "2025-03-12T00:20:13.294029Z",
     "start_time": "2025-03-12T00:20:13.239135Z"
    }
   },
   "cell_type": "code",
   "source": "df['headline'] = df['headline'] + df['short_description']",
   "id": "b644b205b3617d1d",
   "outputs": [],
   "execution_count": 4
  },
  {
   "metadata": {
    "ExecuteTime": {
     "end_time": "2025-03-12T00:20:13.735387Z",
     "start_time": "2025-03-12T00:20:13.294029Z"
    }
   },
   "cell_type": "code",
   "source": [
    "df['headline_len'] = df['headline'].apply(lambda x: len(str(x).split()))\n",
    "df['headline_len']"
   ],
   "id": "3b763d5dd9e88b2e",
   "outputs": [
    {
     "data": {
      "text/plain": [
       "0         39\n",
       "1         40\n",
       "2         24\n",
       "3         33\n",
       "4         35\n",
       "          ..\n",
       "209522    25\n",
       "209523    29\n",
       "209524    39\n",
       "209525    27\n",
       "209526    27\n",
       "Name: headline_len, Length: 209527, dtype: int64"
      ]
     },
     "execution_count": 5,
     "metadata": {},
     "output_type": "execute_result"
    }
   ],
   "execution_count": 5
  },
  {
   "metadata": {
    "ExecuteTime": {
     "end_time": "2025-03-12T00:20:14.793459Z",
     "start_time": "2025-03-12T00:20:13.735387Z"
    }
   },
   "cell_type": "code",
   "source": [
    "from matplotlib import pyplot as plt\n",
    "from scipy.stats import hmean\n",
    "import seaborn as sb\n",
    "\n",
    "mid_blue = '#6f93bf'\n",
    "mid_red = '#bf6f6f'\n",
    "\n",
    "min_headline_len = 0\n",
    "max_headline_len = 20\n",
    "\n",
    "headline_mean = df['headline_len'].mean()\n",
    "harmonic_headline_mean = hmean(df['headline_len'])\n",
    "\n",
    "print(\n",
    "    f\"{\"mean\":>20}: {headline_mean:.2f}\",\n",
    "    f\"{\"harmonic mean\":>20}: {harmonic_headline_mean:.2f}\", sep='\\n'\n",
    ")\n",
    "\n",
    "fig, axes = plt.subplots(figsize=(20, 6))\n",
    "\n",
    "axes.set_title('Headline length in words')\n",
    "axes.set_xlabel('Length in words')\n",
    "axes.set_ylabel('Amount of headlines')\n",
    "sb.histplot(df['headline_len'], ax=axes, binwidth=0.5, linewidth=0, color=mid_blue)\n",
    "axes.axvline(x=max_headline_len, color=mid_red, linestyle='--', label='cutoff')\n",
    "\n",
    "plt.tight_layout()"
   ],
   "id": "3c06dc00c3fe99bd",
   "outputs": [
    {
     "name": "stdout",
     "output_type": "stream",
     "text": [
      "                mean: 28.36\n",
      "       harmonic mean: 0.00\n"
     ]
    },
    {
     "data": {
      "text/plain": [
       "<Figure size 2000x600 with 1 Axes>"
      ],
      "image/png": "[encoded data removed]"
     },
     "metadata": {},
     "output_type": "display_data"
    }
   ],
   "execution_count": 6
  },
  {
   "metadata": {},
   "cell_type": "markdown",
   "source": "Beautiful gaussian curve.",
   "id": "ac8b8b546fe8f938"
  },
  {
   "metadata": {
    "ExecuteTime": {
     "end_time": "2025-03-12T00:20:14.861893Z",
     "start_time": "2025-03-12T00:20:14.793459Z"
    }
   },
   "cell_type": "code",
   "source": [
    "headline_cut_to = lambda min, max: (df['headline_len'] > min) & (df['headline_len'] <= max)\n",
    "\n",
    "shorter_than_100 = len(df[headline_cut_to(0, 100)])\n",
    "longer_than_100 = len(df) - len(df[headline_cut_to(0, 100)])\n",
    "\n",
    "print(\n",
    "    \"Amount of headlines\",\n",
    "    f\"  shorter/equal to 100: {shorter_than_100:_}\",\n",
    "    f\"       longer than 100: {longer_than_100:_}\", sep='\\n'\n",
    ")"
   ],
   "id": "f0034c91e90b709a",
   "outputs": [
    {
     "name": "stdout",
     "output_type": "stream",
     "text": [
      "Amount of headlines\n",
      "  shorter/equal to 100: 209_310\n",
      "       longer than 100: 217\n"
     ]
    }
   ],
   "execution_count": 7
  },
  {
   "metadata": {},
   "cell_type": "markdown",
   "source": [
    "Since we're going to train our model on most average headline length. <br>\n",
    "I don't see any point to use such small fraction of data. <br>\n",
    "It can be very problematic for training our model. So we can safely remove it."
   ],
   "id": "18e473653ebc87d9"
  },
  {
   "metadata": {
    "ExecuteTime": {
     "end_time": "2025-03-12T00:20:15.908927Z",
     "start_time": "2025-03-12T00:20:14.861893Z"
    }
   },
   "cell_type": "code",
   "source": [
    "sorted_categories = df['category'].value_counts().index\n",
    "\n",
    "fig, axes = plt.subplots(figsize=(10, 10))\n",
    "\n",
    "min_label = df['category'].value_counts().min()\n",
    "max_label = df['category'].value_counts().max()\n",
    "\n",
    "print(\n",
    "    f\"min: {min_label}\",\n",
    "    f\"max: {max_label}\", sep='\\n'\n",
    ")\n",
    "\n",
    "sb.countplot(df['category'], order=sorted_categories, color=mid_blue)\n",
    "axes.axvline(x=5_000, color='red', linestyle='--')\n",
    "plt.tight_layout()"
   ],
   "id": "a95982444f62dfaf",
   "outputs": [
    {
     "name": "stdout",
     "output_type": "stream",
     "text": [
      "min: 1014\n",
      "max: 35602\n"
     ]
    },
    {
     "data": {
      "text/plain": [
       "<Figure size 1000x1000 with 1 Axes>"
      ],
      "image/png": "[encoded data removed]"
     },
     "metadata": {},
     "output_type": "display_data"
    }
   ],
   "execution_count": 8
  },
  {
   "metadata": {},
   "cell_type": "markdown",
   "source": "#### Downsampling",
   "id": "46ce460276b49682"
  },
  {
   "metadata": {
    "ExecuteTime": {
     "end_time": "2025-03-12T00:20:16.083600Z",
     "start_time": "2025-03-12T00:20:15.908927Z"
    }
   },
   "cell_type": "code",
   "source": [
    "from sklearn.utils import resample\n",
    "\n",
    "target = 5_000\n",
    "\n",
    "all_groups = []\n",
    "\n",
    "for label, group in df.groupby('category'):\n",
    "    if len(group) >= target:\n",
    "        resampled_group = group.sample(n=target, random_state=42, replace=False)\n",
    "        all_groups.append(resampled_group)\n",
    "    else:\n",
    "        all_groups.append(group)\n",
    "\n",
    "df = pd.concat(all_groups)"
   ],
   "id": "8b58871c4f7714e7",
   "outputs": [],
   "execution_count": 9
  },
  {
   "metadata": {
    "ExecuteTime": {
     "end_time": "2025-03-12T00:20:16.113796Z",
     "start_time": "2025-03-12T00:20:16.083600Z"
    }
   },
   "cell_type": "code",
   "source": "df['category'].value_counts()",
   "id": "387fc236816dd1b4",
   "outputs": [
    {
     "data": {
      "text/plain": [
       "category\n",
       "COMEDY            5000\n",
       "BUSINESS          5000\n",
       "SPORTS            5000\n",
       "STYLE & BEAUTY    5000\n",
       "PARENTING         5000\n",
       "QUEER VOICES      5000\n",
       "POLITICS          5000\n",
       "HEALTHY LIVING    5000\n",
       "FOOD & DRINK      5000\n",
       "ENTERTAINMENT     5000\n",
       "TRAVEL            5000\n",
       "WELLNESS          5000\n",
       "BLACK VOICES      4583\n",
       "HOME & LIVING     4320\n",
       "PARENTS           3955\n",
       "THE WORLDPOST     3664\n",
       "WEDDINGS          3653\n",
       "WOMEN             3572\n",
       "CRIME             3562\n",
       "IMPACT            3484\n",
       "DIVORCE           3426\n",
       "WORLD NEWS        3299\n",
       "MEDIA             2944\n",
       "WEIRD NEWS        2777\n",
       "GREEN             2622\n",
       "WORLDPOST         2579\n",
       "RELIGION          2577\n",
       "STYLE             2254\n",
       "SCIENCE           2206\n",
       "TECH              2104\n",
       "TASTE             2096\n",
       "MONEY             1756\n",
       "ARTS              1509\n",
       "ENVIRONMENT       1444\n",
       "FIFTY             1401\n",
       "GOOD NEWS         1398\n",
       "U.S. NEWS         1377\n",
       "ARTS & CULTURE    1339\n",
       "COLLEGE           1144\n",
       "LATINO VOICES     1130\n",
       "CULTURE & ARTS    1074\n",
       "EDUCATION         1014\n",
       "Name: count, dtype: int64"
      ]
     },
     "execution_count": 10,
     "metadata": {},
     "output_type": "execute_result"
    }
   ],
   "execution_count": 10
  },
  {
   "metadata": {
    "ExecuteTime": {
     "end_time": "2025-03-12T00:20:16.201608Z",
     "start_time": "2025-03-12T00:20:16.113796Z"
    }
   },
   "cell_type": "code",
   "source": [
    "df = df.sample(frac=1).reset_index(drop=True)\n",
    "df.head()"
   ],
   "id": "4cbc34d00af28f27",
   "outputs": [
    {
     "data": {
      "text/plain": [
       "                                            headline  \\\n",
       "0  Obama Administration Brings Global LGBTI Commu...   \n",
       "1  Russia Announces War Games After Accusing Ukra...   \n",
       "2  ODC's Electrifying boulders and bonesMuch of h...   \n",
       "3  Officials Prepare For The Worst In Oroville Da...   \n",
       "4  Wedding Trailblazers: Toronto Baker, The Sugar...   \n",
       "\n",
       "                                   short_description        category  \\\n",
       "0  The resounding international LGBTI-affirming c...    QUEER VOICES   \n",
       "1  Moscow has massed troops on Ukraine’s border w...   THE WORLDPOST   \n",
       "2  Much of his work is ephemeral, expressly desig...  CULTURE & ARTS   \n",
       "3         Nearly 200,000 people have been evacuated.           GREEN   \n",
       "4  We talked with Grafstein-Ho about how she crea...        WEDDINGS   \n",
       "\n",
       "   headline_len  \n",
       "0            37  \n",
       "1            21  \n",
       "2            42  \n",
       "3            14  \n",
       "4            29  "
      ],
      "text/html": [
       "<div>\n",
       "<style scoped>\n",
       "    .dataframe tbody tr th:only-of-type {\n",
       "        vertical-align: middle;\n",
       "    }\n",
       "\n",
       "    .dataframe tbody tr th {\n",
       "        vertical-align: top;\n",
       "    }\n",
       "\n",
       "    .dataframe thead th {\n",
       "        text-align: right;\n",
       "    }\n",
       "</style>\n",
       "<table border=\"1\" class=\"dataframe\">\n",
       "  <thead>\n",
       "    <tr style=\"text-align: right;\">\n",
       "      <th></th>\n",
       "      <th>headline</th>\n",
       "      <th>short_description</th>\n",
       "      <th>category</th>\n",
       "      <th>headline_len</th>\n",
       "    </tr>\n",
       "  </thead>\n",
       "  <tbody>\n",
       "    <tr>\n",
       "      <th>0</th>\n",
       "      <td>Obama Administration Brings Global LGBTI Commu...</td>\n",
       "      <td>The resounding international LGBTI-affirming c...</td>\n",
       "      <td>QUEER VOICES</td>\n",
       "      <td>37</td>\n",
       "    </tr>\n",
       "    <tr>\n",
       "      <th>1</th>\n",
       "      <td>Russia Announces War Games After Accusing Ukra...</td>\n",
       "      <td>Moscow has massed troops on Ukraine’s border w...</td>\n",
       "      <td>THE WORLDPOST</td>\n",
       "      <td>21</td>\n",
       "    </tr>\n",
       "    <tr>\n",
       "      <th>2</th>\n",
       "      <td>ODC's Electrifying boulders and bonesMuch of h...</td>\n",
       "      <td>Much of his work is ephemeral, expressly desig...</td>\n",
       "      <td>CULTURE &amp; ARTS</td>\n",
       "      <td>42</td>\n",
       "    </tr>\n",
       "    <tr>\n",
       "      <th>3</th>\n",
       "      <td>Officials Prepare For The Worst In Oroville Da...</td>\n",
       "      <td>Nearly 200,000 people have been evacuated.</td>\n",
       "      <td>GREEN</td>\n",
       "      <td>14</td>\n",
       "    </tr>\n",
       "    <tr>\n",
       "      <th>4</th>\n",
       "      <td>Wedding Trailblazers: Toronto Baker, The Sugar...</td>\n",
       "      <td>We talked with Grafstein-Ho about how she crea...</td>\n",
       "      <td>WEDDINGS</td>\n",
       "      <td>29</td>\n",
       "    </tr>\n",
       "  </tbody>\n",
       "</table>\n",
       "</div>"
      ]
     },
     "execution_count": 11,
     "metadata": {},
     "output_type": "execute_result"
    }
   ],
   "execution_count": 11
  },
  {
   "metadata": {},
   "cell_type": "markdown",
   "source": [
    "#### Tokenizing headlines\n",
    "1) shuffle dataset so train and test contain exact amount of each category\n",
    "2) apply tokenizing function"
   ],
   "id": "b2b7a81719452023"
  },
  {
   "metadata": {
    "ExecuteTime": {
     "end_time": "2025-03-12T00:20:16.207550Z",
     "start_time": "2025-03-12T00:20:16.201608Z"
    }
   },
   "cell_type": "code",
   "source": [
    "import re\n",
    "\n",
    "def text_clean(text):\n",
    "    result = text.lower()\n",
    "    result = re.sub(r'[^a-zA-Z\\s]', '', result)\n",
    "    result = re.sub(r' +', ' ', result)\n",
    "    return result"
   ],
   "id": "f77f0e45c4d31c80",
   "outputs": [],
   "execution_count": 12
  },
  {
   "metadata": {
    "ExecuteTime": {
     "end_time": "2025-03-12T00:20:16.213664Z",
     "start_time": "2025-03-12T00:20:16.207550Z"
    }
   },
   "cell_type": "code",
   "source": [
    "sample = '!@#this is \"a   \"sample! (T*eXt)...'\n",
    "print(\n",
    "    f\"Before: {sample}\",\n",
    "    f\"After: {text_clean(sample)}\", sep='\\n'\n",
    ")"
   ],
   "id": "eab38a029e829af6",
   "outputs": [
    {
     "name": "stdout",
     "output_type": "stream",
     "text": [
      "Before: !@#this is \"a   \"sample! (T*eXt)...\n",
      "After: this is a sample text\n"
     ]
    }
   ],
   "execution_count": 13
  },
  {
   "metadata": {
    "ExecuteTime": {
     "end_time": "2025-03-12T00:20:18.097989Z",
     "start_time": "2025-03-12T00:20:16.213664Z"
    }
   },
   "cell_type": "code",
   "source": [
    "df['headline'] = df['headline'].apply(lambda x: text_clean(str(x)))\n",
    "df"
   ],
   "id": "4207cb766ff51c7e",
   "outputs": [
    {
     "data": {
      "text/plain": [
       "                                                 headline  \\\n",
       "0       obama administration brings global lgbti commu...   \n",
       "1       russia announces war games after accusing ukra...   \n",
       "2       odcs electrifying boulders and bonesmuch of hi...   \n",
       "3       officials prepare for the worst in oroville da...   \n",
       "4       wedding trailblazers toronto baker the sugar t...   \n",
       "...                                                   ...   \n",
       "134258  women in business qa katherine jetterkatherine...   \n",
       "134259  date ideas for couples who want to get active ...   \n",
       "134260  john kelly defends trump travel ban we wont kn...   \n",
       "134261  surviving cardiac arrest could depend on your ...   \n",
       "134262  most new yorkers want to see criminal charges ...   \n",
       "\n",
       "                                        short_description        category  \\\n",
       "0       The resounding international LGBTI-affirming c...    QUEER VOICES   \n",
       "1       Moscow has massed troops on Ukraine’s border w...   THE WORLDPOST   \n",
       "2       Much of his work is ephemeral, expressly desig...  CULTURE & ARTS   \n",
       "3              Nearly 200,000 people have been evacuated.           GREEN   \n",
       "4       We talked with Grafstein-Ho about how she crea...        WEDDINGS   \n",
       "...                                                   ...             ...   \n",
       "134258  Katherine enjoys the creative vibe of the city...        BUSINESS   \n",
       "134259  If you think of Forrest Gump’s insane paddle s...        WEDDINGS   \n",
       "134260  The homeland security secretary also expressed...        POLITICS   \n",
       "134261  \"Traditionally women have not been treated as ...  HEALTHY LIVING   \n",
       "134262                                                       BLACK VOICES   \n",
       "\n",
       "        headline_len  \n",
       "0                 37  \n",
       "1                 21  \n",
       "2                 42  \n",
       "3                 14  \n",
       "4                 29  \n",
       "...              ...  \n",
       "134258            41  \n",
       "134259            30  \n",
       "134260            25  \n",
       "134261            17  \n",
       "134262            14  \n",
       "\n",
       "[134263 rows x 4 columns]"
      ],
      "text/html": [
       "<div>\n",
       "<style scoped>\n",
       "    .dataframe tbody tr th:only-of-type {\n",
       "        vertical-align: middle;\n",
       "    }\n",
       "\n",
       "    .dataframe tbody tr th {\n",
       "        vertical-align: top;\n",
       "    }\n",
       "\n",
       "    .dataframe thead th {\n",
       "        text-align: right;\n",
       "    }\n",
       "</style>\n",
       "<table border=\"1\" class=\"dataframe\">\n",
       "  <thead>\n",
       "    <tr style=\"text-align: right;\">\n",
       "      <th></th>\n",
       "      <th>headline</th>\n",
       "      <th>short_description</th>\n",
       "      <th>category</th>\n",
       "      <th>headline_len</th>\n",
       "    </tr>\n",
       "  </thead>\n",
       "  <tbody>\n",
       "    <tr>\n",
       "      <th>0</th>\n",
       "      <td>obama administration brings global lgbti commu...</td>\n",
       "      <td>The resounding international LGBTI-affirming c...</td>\n",
       "      <td>QUEER VOICES</td>\n",
       "      <td>37</td>\n",
       "    </tr>\n",
       "    <tr>\n",
       "      <th>1</th>\n",
       "      <td>russia announces war games after accusing ukra...</td>\n",
       "      <td>Moscow has massed troops on Ukraine’s border w...</td>\n",
       "      <td>THE WORLDPOST</td>\n",
       "      <td>21</td>\n",
       "    </tr>\n",
       "    <tr>\n",
       "      <th>2</th>\n",
       "      <td>odcs electrifying boulders and bonesmuch of hi...</td>\n",
       "      <td>Much of his work is ephemeral, expressly desig...</td>\n",
       "      <td>CULTURE &amp; ARTS</td>\n",
       "      <td>42</td>\n",
       "    </tr>\n",
       "    <tr>\n",
       "      <th>3</th>\n",
       "      <td>officials prepare for the worst in oroville da...</td>\n",
       "      <td>Nearly 200,000 people have been evacuated.</td>\n",
       "      <td>GREEN</td>\n",
       "      <td>14</td>\n",
       "    </tr>\n",
       "    <tr>\n",
       "      <th>4</th>\n",
       "      <td>wedding trailblazers toronto baker the sugar t...</td>\n",
       "      <td>We talked with Grafstein-Ho about how she crea...</td>\n",
       "      <td>WEDDINGS</td>\n",
       "      <td>29</td>\n",
       "    </tr>\n",
       "    <tr>\n",
       "      <th>...</th>\n",
       "      <td>...</td>\n",
       "      <td>...</td>\n",
       "      <td>...</td>\n",
       "      <td>...</td>\n",
       "    </tr>\n",
       "    <tr>\n",
       "      <th>134258</th>\n",
       "      <td>women in business qa katherine jetterkatherine...</td>\n",
       "      <td>Katherine enjoys the creative vibe of the city...</td>\n",
       "      <td>BUSINESS</td>\n",
       "      <td>41</td>\n",
       "    </tr>\n",
       "    <tr>\n",
       "      <th>134259</th>\n",
       "      <td>date ideas for couples who want to get active ...</td>\n",
       "      <td>If you think of Forrest Gump’s insane paddle s...</td>\n",
       "      <td>WEDDINGS</td>\n",
       "      <td>30</td>\n",
       "    </tr>\n",
       "    <tr>\n",
       "      <th>134260</th>\n",
       "      <td>john kelly defends trump travel ban we wont kn...</td>\n",
       "      <td>The homeland security secretary also expressed...</td>\n",
       "      <td>POLITICS</td>\n",
       "      <td>25</td>\n",
       "    </tr>\n",
       "    <tr>\n",
       "      <th>134261</th>\n",
       "      <td>surviving cardiac arrest could depend on your ...</td>\n",
       "      <td>\"Traditionally women have not been treated as ...</td>\n",
       "      <td>HEALTHY LIVING</td>\n",
       "      <td>17</td>\n",
       "    </tr>\n",
       "    <tr>\n",
       "      <th>134262</th>\n",
       "      <td>most new yorkers want to see criminal charges ...</td>\n",
       "      <td></td>\n",
       "      <td>BLACK VOICES</td>\n",
       "      <td>14</td>\n",
       "    </tr>\n",
       "  </tbody>\n",
       "</table>\n",
       "<p>134263 rows × 4 columns</p>\n",
       "</div>"
      ]
     },
     "execution_count": 14,
     "metadata": {},
     "output_type": "execute_result"
    }
   ],
   "execution_count": 14
  },
  {
   "metadata": {
    "ExecuteTime": {
     "end_time": "2025-03-12T00:20:18.371936Z",
     "start_time": "2025-03-12T00:20:18.098012Z"
    }
   },
   "cell_type": "code",
   "source": [
    "df['headline_len'] = df['headline'].apply(lambda x: len(str(x).split()))\n",
    "df['headline_len']"
   ],
   "id": "a1bd03f5a8b5c1ca",
   "outputs": [
    {
     "data": {
      "text/plain": [
       "0         37\n",
       "1         21\n",
       "2         42\n",
       "3         13\n",
       "4         29\n",
       "          ..\n",
       "134258    41\n",
       "134259    30\n",
       "134260    25\n",
       "134261    17\n",
       "134262    14\n",
       "Name: headline_len, Length: 134263, dtype: int64"
      ]
     },
     "execution_count": 15,
     "metadata": {},
     "output_type": "execute_result"
    }
   ],
   "execution_count": 15
  },
  {
   "metadata": {
    "ExecuteTime": {
     "end_time": "2025-03-12T00:20:22.157219Z",
     "start_time": "2025-03-12T00:20:22.132714Z"
    }
   },
   "cell_type": "code",
   "source": "df = df[headline_cut_to(3, 150)]",
   "id": "d256cbbc71a4199b",
   "outputs": [],
   "execution_count": 16
  },
  {
   "metadata": {
    "ExecuteTime": {
     "end_time": "2025-03-12T00:20:23.786465Z",
     "start_time": "2025-03-12T00:20:22.157219Z"
    }
   },
   "cell_type": "code",
   "source": [
    "from collections import Counter\n",
    "\n",
    "tokenized_texts = [text.split() for text in df['headline']]\n",
    "word_counts = Counter([word for text in tokenized_texts\n",
    "                            for word in text])\n",
    "word_counts.most_common(10)"
   ],
   "id": "33611950621db542",
   "outputs": [
    {
     "data": {
      "text/plain": [
       "[('the', 158236),\n",
       " ('to', 106795),\n",
       " ('a', 86279),\n",
       " ('of', 84999),\n",
       " ('and', 77899),\n",
       " ('in', 62736),\n",
       " ('is', 42600),\n",
       " ('for', 40974),\n",
       " ('that', 31607),\n",
       " ('on', 30242)]"
      ]
     },
     "execution_count": 17,
     "metadata": {},
     "output_type": "execute_result"
    }
   ],
   "execution_count": 17
  },
  {
   "metadata": {
    "ExecuteTime": {
     "end_time": "2025-03-12T00:20:24.015911Z",
     "start_time": "2025-03-12T00:20:23.786465Z"
    }
   },
   "cell_type": "code",
   "source": [
    "word_to_idx = {word: i+1 for i, (word, _) in enumerate(word_counts.most_common())}\n",
    "word_to_idx['<PAD>'] = 0\n",
    "idx_to_word = {i: word for word, i in word_to_idx.items()}\n",
    "\n",
    "for i in range(10):\n",
    "    print(idx_to_word[i])"
   ],
   "id": "771b59d4e59f3c3b",
   "outputs": [
    {
     "name": "stdout",
     "output_type": "stream",
     "text": [
      "<PAD>\n",
      "the\n",
      "to\n",
      "a\n",
      "of\n",
      "and\n",
      "in\n",
      "is\n",
      "for\n",
      "that\n"
     ]
    }
   ],
   "execution_count": 18
  },
  {
   "metadata": {
    "ExecuteTime": {
     "end_time": "2025-03-12T00:20:24.022456Z",
     "start_time": "2025-03-12T00:20:24.015911Z"
    }
   },
   "cell_type": "code",
   "source": [
    "import numpy as np\n",
    "\n",
    "def vectorize_headline(headline):\n",
    "    result = [word_to_idx[w] for w in headline.split()[:100]]\n",
    "    result = np.pad(result, (0, 100 - len(result)))\n",
    "    return result"
   ],
   "id": "84884d2deea88c2f",
   "outputs": [],
   "execution_count": 19
  },
  {
   "metadata": {
    "ExecuteTime": {
     "end_time": "2025-03-12T00:20:24.035027Z",
     "start_time": "2025-03-12T00:20:24.024479Z"
    }
   },
   "cell_type": "code",
   "source": "vectorize_headline(df['headline'][0])",
   "id": "eb1639c2b4368a92",
   "outputs": [
    {
     "data": {
      "text/plain": [
       "array([  317,  1111,  1124,   414, 17907,   349,   324,     2,  3005,\n",
       "         339,   359,     5, 41604, 14736,   532, 58647,  6421,     6,\n",
       "           1, 33923,    13,     3,  2729,  1472,     4,   755,    46,\n",
       "         389,   330,     2,  4992,    21,  4682,     3, 23631,    21,\n",
       "         528,     0,     0,     0,     0,     0,     0,     0,     0,\n",
       "           0,     0,     0,     0,     0,     0,     0,     0,     0,\n",
       "           0,     0,     0,     0,     0,     0,     0,     0,     0,\n",
       "           0,     0,     0,     0,     0,     0,     0,     0,     0,\n",
       "           0,     0,     0,     0,     0,     0,     0,     0,     0,\n",
       "           0,     0,     0,     0,     0,     0,     0,     0,     0,\n",
       "           0,     0,     0,     0,     0,     0,     0,     0,     0,\n",
       "           0])"
      ]
     },
     "execution_count": 20,
     "metadata": {},
     "output_type": "execute_result"
    }
   ],
   "execution_count": 20
  },
  {
   "metadata": {
    "ExecuteTime": {
     "end_time": "2025-03-12T00:20:28.451858Z",
     "start_time": "2025-03-12T00:20:24.035027Z"
    }
   },
   "cell_type": "code",
   "source": [
    "df['headline'] = df['headline'].apply(vectorize_headline)\n",
    "df.head()"
   ],
   "id": "dd7aadb2194e5d70",
   "outputs": [
    {
     "data": {
      "text/plain": [
       "                                            headline  \\\n",
       "0  [317, 1111, 1124, 414, 17907, 349, 324, 2, 300...   \n",
       "1  [865, 2594, 345, 936, 51, 6711, 1990, 4, 3006,...   \n",
       "2  [58649, 23632, 33924, 5, 58650, 4, 47, 143, 7,...   \n",
       "3  [761, 1761, 8, 1, 512, 6, 33926, 11501, 58652,...   \n",
       "4  [117, 14177, 4886, 6604, 1, 1836, 6422, 4595, ...   \n",
       "\n",
       "                                   short_description        category  \\\n",
       "0  The resounding international LGBTI-affirming c...    QUEER VOICES   \n",
       "1  Moscow has massed troops on Ukraine’s border w...   THE WORLDPOST   \n",
       "2  Much of his work is ephemeral, expressly desig...  CULTURE & ARTS   \n",
       "3         Nearly 200,000 people have been evacuated.           GREEN   \n",
       "4  We talked with Grafstein-Ho about how she crea...        WEDDINGS   \n",
       "\n",
       "   headline_len  \n",
       "0            37  \n",
       "1            21  \n",
       "2            42  \n",
       "3            13  \n",
       "4            29  "
      ],
      "text/html": [
       "<div>\n",
       "<style scoped>\n",
       "    .dataframe tbody tr th:only-of-type {\n",
       "        vertical-align: middle;\n",
       "    }\n",
       "\n",
       "    .dataframe tbody tr th {\n",
       "        vertical-align: top;\n",
       "    }\n",
       "\n",
       "    .dataframe thead th {\n",
       "        text-align: right;\n",
       "    }\n",
       "</style>\n",
       "<table border=\"1\" class=\"dataframe\">\n",
       "  <thead>\n",
       "    <tr style=\"text-align: right;\">\n",
       "      <th></th>\n",
       "      <th>headline</th>\n",
       "      <th>short_description</th>\n",
       "      <th>category</th>\n",
       "      <th>headline_len</th>\n",
       "    </tr>\n",
       "  </thead>\n",
       "  <tbody>\n",
       "    <tr>\n",
       "      <th>0</th>\n",
       "      <td>[317, 1111, 1124, 414, 17907, 349, 324, 2, 300...</td>\n",
       "      <td>The resounding international LGBTI-affirming c...</td>\n",
       "      <td>QUEER VOICES</td>\n",
       "      <td>37</td>\n",
       "    </tr>\n",
       "    <tr>\n",
       "      <th>1</th>\n",
       "      <td>[865, 2594, 345, 936, 51, 6711, 1990, 4, 3006,...</td>\n",
       "      <td>Moscow has massed troops on Ukraine’s border w...</td>\n",
       "      <td>THE WORLDPOST</td>\n",
       "      <td>21</td>\n",
       "    </tr>\n",
       "    <tr>\n",
       "      <th>2</th>\n",
       "      <td>[58649, 23632, 33924, 5, 58650, 4, 47, 143, 7,...</td>\n",
       "      <td>Much of his work is ephemeral, expressly desig...</td>\n",
       "      <td>CULTURE &amp; ARTS</td>\n",
       "      <td>42</td>\n",
       "    </tr>\n",
       "    <tr>\n",
       "      <th>3</th>\n",
       "      <td>[761, 1761, 8, 1, 512, 6, 33926, 11501, 58652,...</td>\n",
       "      <td>Nearly 200,000 people have been evacuated.</td>\n",
       "      <td>GREEN</td>\n",
       "      <td>13</td>\n",
       "    </tr>\n",
       "    <tr>\n",
       "      <th>4</th>\n",
       "      <td>[117, 14177, 4886, 6604, 1, 1836, 6422, 4595, ...</td>\n",
       "      <td>We talked with Grafstein-Ho about how she crea...</td>\n",
       "      <td>WEDDINGS</td>\n",
       "      <td>29</td>\n",
       "    </tr>\n",
       "  </tbody>\n",
       "</table>\n",
       "</div>"
      ]
     },
     "execution_count": 21,
     "metadata": {},
     "output_type": "execute_result"
    }
   ],
   "execution_count": 21
  },
  {
   "metadata": {},
   "cell_type": "markdown",
   "source": "#### Labeling categories",
   "id": "15698fc7a1ee9ee8"
  },
  {
   "metadata": {
    "ExecuteTime": {
     "end_time": "2025-03-12T00:20:28.463074Z",
     "start_time": "2025-03-12T00:20:28.453989Z"
    }
   },
   "cell_type": "code",
   "source": [
    "category_to_label = {\n",
    "    cat: i for i, cat in enumerate(sorted_categories)\n",
    "}\n",
    "\n",
    "category_to_label"
   ],
   "id": "dd96e2b1471cfd0d",
   "outputs": [
    {
     "data": {
      "text/plain": [
       "{'POLITICS': 0,\n",
       " 'WELLNESS': 1,\n",
       " 'ENTERTAINMENT': 2,\n",
       " 'TRAVEL': 3,\n",
       " 'STYLE & BEAUTY': 4,\n",
       " 'PARENTING': 5,\n",
       " 'HEALTHY LIVING': 6,\n",
       " 'QUEER VOICES': 7,\n",
       " 'FOOD & DRINK': 8,\n",
       " 'BUSINESS': 9,\n",
       " 'COMEDY': 10,\n",
       " 'SPORTS': 11,\n",
       " 'BLACK VOICES': 12,\n",
       " 'HOME & LIVING': 13,\n",
       " 'PARENTS': 14,\n",
       " 'THE WORLDPOST': 15,\n",
       " 'WEDDINGS': 16,\n",
       " 'WOMEN': 17,\n",
       " 'CRIME': 18,\n",
       " 'IMPACT': 19,\n",
       " 'DIVORCE': 20,\n",
       " 'WORLD NEWS': 21,\n",
       " 'MEDIA': 22,\n",
       " 'WEIRD NEWS': 23,\n",
       " 'GREEN': 24,\n",
       " 'WORLDPOST': 25,\n",
       " 'RELIGION': 26,\n",
       " 'STYLE': 27,\n",
       " 'SCIENCE': 28,\n",
       " 'TECH': 29,\n",
       " 'TASTE': 30,\n",
       " 'MONEY': 31,\n",
       " 'ARTS': 32,\n",
       " 'ENVIRONMENT': 33,\n",
       " 'FIFTY': 34,\n",
       " 'GOOD NEWS': 35,\n",
       " 'U.S. NEWS': 36,\n",
       " 'ARTS & CULTURE': 37,\n",
       " 'COLLEGE': 38,\n",
       " 'LATINO VOICES': 39,\n",
       " 'CULTURE & ARTS': 40,\n",
       " 'EDUCATION': 41}"
      ]
     },
     "execution_count": 22,
     "metadata": {},
     "output_type": "execute_result"
    }
   ],
   "execution_count": 22
  },
  {
   "metadata": {
    "ExecuteTime": {
     "end_time": "2025-03-12T00:20:28.540847Z",
     "start_time": "2025-03-12T00:20:28.464094Z"
    }
   },
   "cell_type": "code",
   "source": [
    "df['category'] = df['category'].apply(lambda cat: category_to_label[cat])\n",
    "df.head()"
   ],
   "id": "f73ca69b45d768d4",
   "outputs": [
    {
     "data": {
      "text/plain": [
       "                                            headline  \\\n",
       "0  [317, 1111, 1124, 414, 17907, 349, 324, 2, 300...   \n",
       "1  [865, 2594, 345, 936, 51, 6711, 1990, 4, 3006,...   \n",
       "2  [58649, 23632, 33924, 5, 58650, 4, 47, 143, 7,...   \n",
       "3  [761, 1761, 8, 1, 512, 6, 33926, 11501, 58652,...   \n",
       "4  [117, 14177, 4886, 6604, 1, 1836, 6422, 4595, ...   \n",
       "\n",
       "                                   short_description  category  headline_len  \n",
       "0  The resounding international LGBTI-affirming c...         7            37  \n",
       "1  Moscow has massed troops on Ukraine’s border w...        15            21  \n",
       "2  Much of his work is ephemeral, expressly desig...        40            42  \n",
       "3         Nearly 200,000 people have been evacuated.        24            13  \n",
       "4  We talked with Grafstein-Ho about how she crea...        16            29  "
      ],
      "text/html": [
       "<div>\n",
       "<style scoped>\n",
       "    .dataframe tbody tr th:only-of-type {\n",
       "        vertical-align: middle;\n",
       "    }\n",
       "\n",
       "    .dataframe tbody tr th {\n",
       "        vertical-align: top;\n",
       "    }\n",
       "\n",
       "    .dataframe thead th {\n",
       "        text-align: right;\n",
       "    }\n",
       "</style>\n",
       "<table border=\"1\" class=\"dataframe\">\n",
       "  <thead>\n",
       "    <tr style=\"text-align: right;\">\n",
       "      <th></th>\n",
       "      <th>headline</th>\n",
       "      <th>short_description</th>\n",
       "      <th>category</th>\n",
       "      <th>headline_len</th>\n",
       "    </tr>\n",
       "  </thead>\n",
       "  <tbody>\n",
       "    <tr>\n",
       "      <th>0</th>\n",
       "      <td>[317, 1111, 1124, 414, 17907, 349, 324, 2, 300...</td>\n",
       "      <td>The resounding international LGBTI-affirming c...</td>\n",
       "      <td>7</td>\n",
       "      <td>37</td>\n",
       "    </tr>\n",
       "    <tr>\n",
       "      <th>1</th>\n",
       "      <td>[865, 2594, 345, 936, 51, 6711, 1990, 4, 3006,...</td>\n",
       "      <td>Moscow has massed troops on Ukraine’s border w...</td>\n",
       "      <td>15</td>\n",
       "      <td>21</td>\n",
       "    </tr>\n",
       "    <tr>\n",
       "      <th>2</th>\n",
       "      <td>[58649, 23632, 33924, 5, 58650, 4, 47, 143, 7,...</td>\n",
       "      <td>Much of his work is ephemeral, expressly desig...</td>\n",
       "      <td>40</td>\n",
       "      <td>42</td>\n",
       "    </tr>\n",
       "    <tr>\n",
       "      <th>3</th>\n",
       "      <td>[761, 1761, 8, 1, 512, 6, 33926, 11501, 58652,...</td>\n",
       "      <td>Nearly 200,000 people have been evacuated.</td>\n",
       "      <td>24</td>\n",
       "      <td>13</td>\n",
       "    </tr>\n",
       "    <tr>\n",
       "      <th>4</th>\n",
       "      <td>[117, 14177, 4886, 6604, 1, 1836, 6422, 4595, ...</td>\n",
       "      <td>We talked with Grafstein-Ho about how she crea...</td>\n",
       "      <td>16</td>\n",
       "      <td>29</td>\n",
       "    </tr>\n",
       "  </tbody>\n",
       "</table>\n",
       "</div>"
      ]
     },
     "execution_count": 23,
     "metadata": {},
     "output_type": "execute_result"
    }
   ],
   "execution_count": 23
  },
  {
   "metadata": {},
   "cell_type": "markdown",
   "source": "#### Data Loaders",
   "id": "6172fd31ee1fb032"
  },
  {
   "metadata": {
    "ExecuteTime": {
     "end_time": "2025-03-12T00:20:30.052613Z",
     "start_time": "2025-03-12T00:20:30.037457Z"
    }
   },
   "cell_type": "code",
   "source": [
    "sequences = df['headline'].to_numpy()\n",
    "labels = df['category'].to_numpy()"
   ],
   "id": "15790474423a4666",
   "outputs": [],
   "execution_count": 24
  },
  {
   "metadata": {},
   "cell_type": "markdown",
   "source": "Checking if sequence is paired with label correctly",
   "id": "2d6bd820469786ed"
  },
  {
   "metadata": {
    "ExecuteTime": {
     "end_time": "2025-03-12T00:20:30.484465Z",
     "start_time": "2025-03-12T00:20:30.467784Z"
    }
   },
   "cell_type": "code",
   "source": [
    "mismatches = df[df['headline'] != sequences]\n",
    "if not mismatches.empty:\n",
    "    print(mismatches.iloc[0], sequences[mismatches.index[0]])\n",
    "    \n",
    "mismatches = df[df['category'] != labels]\n",
    "if not mismatches.empty:\n",
    "    print(mismatches.iloc[0], sequences[mismatches.index[0]])"
   ],
   "id": "22dcb8d5332b3340",
   "outputs": [],
   "execution_count": 25
  },
  {
   "metadata": {
    "ExecuteTime": {
     "end_time": "2025-03-12T00:20:30.951984Z",
     "start_time": "2025-03-12T00:20:30.946384Z"
    }
   },
   "cell_type": "code",
   "source": [
    "train_size = int(len(df) * 0.7)\n",
    "\n",
    "train_split = sequences[:train_size], labels[:train_size]\n",
    "test_split = sequences[train_size:], labels[train_size:]"
   ],
   "id": "417b8e8867fabc27",
   "outputs": [],
   "execution_count": 26
  },
  {
   "metadata": {
    "ExecuteTime": {
     "end_time": "2025-03-12T00:20:31.534852Z",
     "start_time": "2025-03-12T00:20:31.528071Z"
    }
   },
   "cell_type": "code",
   "source": "len(test_split[0]) + len(train_split[0]) == len(df)",
   "id": "30e20eed196b1bee",
   "outputs": [
    {
     "data": {
      "text/plain": [
       "True"
      ]
     },
     "execution_count": 27,
     "metadata": {},
     "output_type": "execute_result"
    }
   ],
   "execution_count": 27
  },
  {
   "metadata": {
    "ExecuteTime": {
     "end_time": "2025-03-12T00:20:31.541904Z",
     "start_time": "2025-03-12T00:20:31.534852Z"
    }
   },
   "cell_type": "code",
   "source": [
    "import torch\n",
    "from torch.utils.data import TensorDataset, DataLoader\n",
    "\n",
    "def return_loader(dataset, batch_size=8):\n",
    "\n",
    "    sequences, labels = dataset\n",
    "        \n",
    "    x, y, z = [], [], []\n",
    "    \n",
    "    for sequence, label in zip(sequences, labels):\n",
    "        x.append(sequence)\n",
    "        y.append(label)\n",
    "        z.append(np.count_nonzero(sequence))\n",
    "        \n",
    "    tensor_dataset = TensorDataset(torch.tensor(x).long(),\n",
    "                                   torch.tensor(z).long(),\n",
    "                                   torch.tensor(y).long())\n",
    "    \n",
    "    return DataLoader(tensor_dataset, batch_size=batch_size, drop_last=True)"
   ],
   "id": "f3a811002852d32a",
   "outputs": [],
   "execution_count": 28
  },
  {
   "metadata": {
    "ExecuteTime": {
     "end_time": "2025-03-12T00:20:34.658486Z",
     "start_time": "2025-03-12T00:20:32.111476Z"
    }
   },
   "cell_type": "code",
   "source": [
    "train_loader  = return_loader(dataset=train_split, batch_size=256)\n",
    "test_loader = return_loader(dataset=test_split, batch_size=256)"
   ],
   "id": "ccda7ec70df24927",
   "outputs": [],
   "execution_count": 29
  },
  {
   "metadata": {
    "ExecuteTime": {
     "end_time": "2025-03-12T00:20:37.650945Z",
     "start_time": "2025-03-12T00:20:34.658486Z"
    }
   },
   "cell_type": "code",
   "source": [
    "i = -1\n",
    "\n",
    "for batch in train_loader:\n",
    "    inputs, lengths, targets = batch\n",
    "    \n",
    "    # print(len(lengths))\n",
    "    for i in range(256):\n",
    "        if 0 in lengths[i]:\n",
    "            print(inputs[i], targets[i], lengths[i])"
   ],
   "id": "eb5c1e53dbd4d73e",
   "outputs": [],
   "execution_count": 30
  },
  {
   "metadata": {
    "ExecuteTime": {
     "end_time": "2025-03-12T00:20:37.659253Z",
     "start_time": "2025-03-12T00:20:37.650945Z"
    }
   },
   "cell_type": "code",
   "source": [
    "from torch import nn\n",
    "import torch.nn.utils.rnn as rnn_utils\n",
    "\n",
    "class RNN(nn.Module):\n",
    "    def __init__(self, vocab_size, embed_size, hidden_size, output_size, n_layers=1, dropout_rate=0):\n",
    "        super(RNN, self).__init__()\n",
    "        self.embedding = nn.Embedding(vocab_size, embed_size, padding_idx=0)\n",
    "        self.rnn = nn.LSTM(input_size=embed_size, hidden_size=hidden_size, dropout=dropout_rate, num_layers=n_layers, batch_first=True)\n",
    "        self.fc = nn.Linear(hidden_size, output_size)\n",
    "        self.dropout = nn.Dropout(dropout_rate)\n",
    "\n",
    "    def forward(self, x, lengths):\n",
    "        x = self.embedding(x)\n",
    "\n",
    "        x = rnn_utils.pack_padded_sequence(x, lengths, batch_first=True, enforce_sorted=False)\n",
    "    \n",
    "        rnn_out, (hidden, cell) = self.rnn(x)    \n",
    "    \n",
    "        hidden = self.dropout(hidden[-1])\n",
    "        output = self.fc(hidden)\n",
    "        \n",
    "        return output"
   ],
   "id": "478bc40242bb2ad1",
   "outputs": [],
   "execution_count": 31
  },
  {
   "metadata": {
    "ExecuteTime": {
     "end_time": "2025-03-12T00:20:38.259967Z",
     "start_time": "2025-03-12T00:20:38.250808Z"
    }
   },
   "cell_type": "code",
   "source": [
    "from torch import optim\n",
    "\n",
    "def train_model(model, data_loader, n_epochs=1, learning_rate=0.001):\n",
    "    \n",
    "    device = torch.device('cuda') if torch.cuda.is_available() else 'cpu'\n",
    "    \n",
    "    model.to(device)\n",
    "    criterion = nn.CrossEntropyLoss()\n",
    "    optimizer = optim.Adam(params=model.parameters(), lr=learning_rate)\n",
    "    \n",
    "    for epoch in range(n_epochs):\n",
    "        \n",
    "        model.train()\n",
    "        total_loss = 0\n",
    "        \n",
    "        for i, batch in enumerate(data_loader):\n",
    "            inputs, lengths, targets = batch\n",
    "            inputs, targets = (inputs.to(device).long(), targets.to(device).long())\n",
    "            lengths = lengths.cpu()\n",
    "            \n",
    "            optimizer.zero_grad()\n",
    "            outputs = model(inputs, lengths)\n",
    "            \n",
    "            loss = criterion(outputs, targets)\n",
    "            loss.backward()\n",
    "            \n",
    "            optimizer.step()\n",
    "            \n",
    "            total_loss += loss.item()\n",
    "            \n",
    "        avg_loss = total_loss / len(data_loader)\n",
    "        \n",
    "        print(\n",
    "            f\"Epoch: {epoch+1} / {n_epochs}  |  loss: {avg_loss:.4f}\"\n",
    "        )"
   ],
   "id": "e1c873ad8fd34561",
   "outputs": [],
   "execution_count": 32
  },
  {
   "metadata": {
    "ExecuteTime": {
     "end_time": "2025-03-12T00:20:38.837540Z",
     "start_time": "2025-03-12T00:20:38.828690Z"
    }
   },
   "cell_type": "code",
   "source": [
    "def test_model(model, data_loader):\n",
    "\n",
    "    device = torch.device('cuda') if torch.cuda.is_available() else 'cpu'\n",
    "    model.to(device)\n",
    "\n",
    "    model.eval()\n",
    "\n",
    "    y_true = []\n",
    "    y_pred = []\n",
    "\n",
    "    with (torch.no_grad()):\n",
    "        for inputs, lengths, targets in data_loader:\n",
    "            inputs, targets = inputs.to(device).long(), targets.to(device).long()\n",
    "            lengths = lengths.cpu()\n",
    "            if 0 in lengths:\n",
    "                print(lengths)\n",
    "            \n",
    "            \n",
    "            outputs = model(inputs, lengths)\n",
    "            _, predicted = torch.max(outputs.data, 1)\n",
    "\n",
    "            y_true.extend(targets.cpu().numpy())\n",
    "            y_pred.extend(predicted.cpu().numpy())\n",
    "\n",
    "    return y_true, y_pred"
   ],
   "id": "929f4b08e32ef326",
   "outputs": [],
   "execution_count": 33
  },
  {
   "metadata": {},
   "cell_type": "markdown",
   "source": "# tRAINING",
   "id": "46037c0a6fe88292"
  },
  {
   "metadata": {
    "ExecuteTime": {
     "end_time": "2025-03-12T00:25:58.404293Z",
     "start_time": "2025-03-12T00:25:58.031304Z"
    }
   },
   "cell_type": "code",
   "source": [
    "rnn_model = RNN(vocab_size=len(word_to_idx),\n",
    "                embed_size=256,\n",
    "                hidden_size=256,\n",
    "                dropout_rate=0,\n",
    "                n_layers=1,\n",
    "                output_size=42)"
   ],
   "id": "48762a124306006b",
   "outputs": [],
   "execution_count": 40
  },
  {
   "metadata": {
    "ExecuteTime": {
     "end_time": "2025-03-12T00:27:31.123890Z",
     "start_time": "2025-03-12T00:25:59.091727Z"
    }
   },
   "cell_type": "code",
   "source": [
    "train_model(\n",
    "    model=rnn_model,\n",
    "    data_loader=train_loader,\n",
    "    n_epochs=10,\n",
    "    learning_rate=0.001)"
   ],
   "id": "82ee4f3831b7dcc0",
   "outputs": [
    {
     "name": "stdout",
     "output_type": "stream",
     "text": [
      "Epoch: 1 / 10  |  loss: 3.1114\n",
      "Epoch: 2 / 10  |  loss: 2.1280\n",
      "Epoch: 3 / 10  |  loss: 1.5980\n",
      "Epoch: 4 / 10  |  loss: 1.1976\n",
      "Epoch: 5 / 10  |  loss: 0.8747\n",
      "Epoch: 6 / 10  |  loss: 0.6238\n",
      "Epoch: 7 / 10  |  loss: 0.4169\n",
      "Epoch: 8 / 10  |  loss: 0.2689\n",
      "Epoch: 9 / 10  |  loss: 0.1616\n",
      "Epoch: 10 / 10  |  loss: 0.0940\n"
     ]
    }
   ],
   "execution_count": 41
  },
  {
   "metadata": {
    "ExecuteTime": {
     "end_time": "2025-03-12T00:31:37.400337Z",
     "start_time": "2025-03-12T00:31:35.468827Z"
    }
   },
   "cell_type": "code",
   "source": "y_true, y_pred = test_model(model=rnn_model, data_loader=test_loader)",
   "id": "f4f3f3cd179e159",
   "outputs": [],
   "execution_count": 43
  },
  {
   "metadata": {
    "ExecuteTime": {
     "end_time": "2025-03-12T00:31:37.474367Z",
     "start_time": "2025-03-12T00:31:37.401328Z"
    }
   },
   "cell_type": "code",
   "source": [
    "from sklearn.metrics import classification_report, confusion_matrix\n",
    "\n",
    "cm = confusion_matrix(y_true, y_pred)\n",
    "print(classification_report(y_true, y_pred, target_names=category_to_label))"
   ],
   "id": "f49f492c2466140a",
   "outputs": [
    {
     "name": "stdout",
     "output_type": "stream",
     "text": [
      "                precision    recall  f1-score   support\n",
      "\n",
      "      POLITICS       0.48      0.48      0.48      1528\n",
      "      WELLNESS       0.38      0.45      0.41      1433\n",
      " ENTERTAINMENT       0.38      0.35      0.36      1528\n",
      "        TRAVEL       0.56      0.54      0.55      1501\n",
      "STYLE & BEAUTY       0.70      0.68      0.69      1558\n",
      "     PARENTING       0.46      0.44      0.45      1499\n",
      "HEALTHY LIVING       0.34      0.37      0.35      1437\n",
      "  QUEER VOICES       0.66      0.61      0.63      1475\n",
      "  FOOD & DRINK       0.58      0.53      0.55      1474\n",
      "      BUSINESS       0.36      0.40      0.38      1498\n",
      "        COMEDY       0.51      0.46      0.48      1457\n",
      "        SPORTS       0.57      0.65      0.60      1506\n",
      "  BLACK VOICES       0.44      0.37      0.40      1342\n",
      " HOME & LIVING       0.66      0.64      0.65      1262\n",
      "       PARENTS       0.39      0.36      0.38      1171\n",
      " THE WORLDPOST       0.47      0.39      0.43      1067\n",
      "      WEDDINGS       0.77      0.68      0.72      1081\n",
      "         WOMEN       0.34      0.30      0.31      1038\n",
      "         CRIME       0.55      0.43      0.48      1097\n",
      "        IMPACT       0.22      0.36      0.27       985\n",
      "       DIVORCE       0.63      0.68      0.65       986\n",
      "    WORLD NEWS       0.37      0.45      0.40       985\n",
      "         MEDIA       0.53      0.46      0.49       882\n",
      "    WEIRD NEWS       0.26      0.32      0.28       836\n",
      "         GREEN       0.33      0.35      0.34       839\n",
      "     WORLDPOST       0.50      0.49      0.49       752\n",
      "      RELIGION       0.47      0.39      0.42       750\n",
      "         STYLE       0.40      0.41      0.40       676\n",
      "       SCIENCE       0.43      0.36      0.39       696\n",
      "          TECH       0.43      0.40      0.41       641\n",
      "         TASTE       0.30      0.34      0.32       603\n",
      "         MONEY       0.34      0.37      0.35       541\n",
      "          ARTS       0.30      0.28      0.29       432\n",
      "   ENVIRONMENT       0.25      0.38      0.30       429\n",
      "         FIFTY       0.20      0.17      0.19       420\n",
      "     GOOD NEWS       0.17      0.22      0.19       400\n",
      "     U.S. NEWS       0.15      0.22      0.18       404\n",
      "ARTS & CULTURE       0.29      0.20      0.24       424\n",
      "       COLLEGE       0.37      0.24      0.29       363\n",
      " LATINO VOICES       0.35      0.31      0.33       339\n",
      "CULTURE & ARTS       0.29      0.30      0.30       313\n",
      "     EDUCATION       0.29      0.26      0.27       288\n",
      "\n",
      "      accuracy                           0.45     39936\n",
      "     macro avg       0.42      0.41      0.41     39936\n",
      "  weighted avg       0.46      0.45      0.45     39936\n",
      "\n"
     ]
    }
   ],
   "execution_count": 44
  },
  {
   "metadata": {
    "ExecuteTime": {
     "end_time": "2025-03-12T00:31:38.132302Z",
     "start_time": "2025-03-12T00:31:37.475360Z"
    }
   },
   "cell_type": "code",
   "source": [
    "fig = plt.figure(figsize=(20, 20))\n",
    "sb.heatmap(cm, cbar=False, cmap='Greys', annot=False, fmt='d')"
   ],
   "id": "2cc83a9d0b0f3856",
   "outputs": [
    {
     "data": {
      "text/plain": [
       "<Axes: >"
      ]
     },
     "execution_count": 45,
     "metadata": {},
     "output_type": "execute_result"
    },
    {
     "data": {
      "text/plain": [
       "<Figure size 2000x2000 with 1 Axes>"
      ],
      "image/png": "[encoded data removed]"
     },
     "metadata": {},
     "output_type": "display_data"
    }
   ],
   "execution_count": 45
  }
 ],
 "metadata": {
  "kernelspec": {
   "display_name": "Python 3",
   "language": "python",
   "name": "python3"
  },
  "language_info": {
   "codemirror_mode": {
    "name": "ipython",
    "version": 2
   },
   "file_extension": ".py",
   "mimetype": "text/x-python",
   "name": "python",
   "nbconvert_exporter": "python",
   "pygments_lexer": "ipython2",
   "version": "2.7.6"
  }
 },
 "nbformat": 4,
 "nbformat_minor": 5
}
