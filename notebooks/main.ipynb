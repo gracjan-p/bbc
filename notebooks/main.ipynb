{
 "cells": [
  {
   "cell_type": "code",
   "id": "initial_id",
   "metadata": {
    "collapsed": true,
    "ExecuteTime": {
     "end_time": "2025-03-10T00:07:50.986966Z",
     "start_time": "2025-03-10T00:07:50.982819Z"
    }
   },
   "source": [
    "import warnings\n",
    "warnings.filterwarnings(\"ignore\")"
   ],
   "outputs": [],
   "execution_count": 1
  },
  {
   "metadata": {
    "ExecuteTime": {
     "end_time": "2025-03-10T00:07:53.124808Z",
     "start_time": "2025-03-10T00:07:51.496904Z"
    }
   },
   "cell_type": "code",
   "source": [
    "import pandas as pd\n",
    "\n",
    "df = pd.read_json('..\\\\datasets\\\\headlines.json', lines=True)\n",
    "df"
   ],
   "id": "ab1c928658946f1a",
   "outputs": [
    {
     "data": {
      "text/plain": [
       "                                                     link  \\\n",
       "0       https://www.huffpost.com/entry/covid-boosters-...   \n",
       "1       https://www.huffpost.com/entry/american-airlin...   \n",
       "2       https://www.huffpost.com/entry/funniest-tweets...   \n",
       "3       https://www.huffpost.com/entry/funniest-parent...   \n",
       "4       https://www.huffpost.com/entry/amy-cooper-lose...   \n",
       "...                                                   ...   \n",
       "209522  https://www.huffingtonpost.com/entry/rim-ceo-t...   \n",
       "209523  https://www.huffingtonpost.com/entry/maria-sha...   \n",
       "209524  https://www.huffingtonpost.com/entry/super-bow...   \n",
       "209525  https://www.huffingtonpost.com/entry/aldon-smi...   \n",
       "209526  https://www.huffingtonpost.com/entry/dwight-ho...   \n",
       "\n",
       "                                                 headline   category  \\\n",
       "0       Over 4 Million Americans Roll Up Sleeves For O...  U.S. NEWS   \n",
       "1       American Airlines Flyer Charged, Banned For Li...  U.S. NEWS   \n",
       "2       23 Of The Funniest Tweets About Cats And Dogs ...     COMEDY   \n",
       "3       The Funniest Tweets From Parents This Week (Se...  PARENTING   \n",
       "4       Woman Who Called Cops On Black Bird-Watcher Lo...  U.S. NEWS   \n",
       "...                                                   ...        ...   \n",
       "209522  RIM CEO Thorsten Heins' 'Significant' Plans Fo...       TECH   \n",
       "209523  Maria Sharapova Stunned By Victoria Azarenka I...     SPORTS   \n",
       "209524  Giants Over Patriots, Jets Over Colts Among  M...     SPORTS   \n",
       "209525  Aldon Smith Arrested: 49ers Linebacker Busted ...     SPORTS   \n",
       "209526  Dwight Howard Rips Teammates After Magic Loss ...     SPORTS   \n",
       "\n",
       "                                        short_description  \\\n",
       "0       Health experts said it is too early to predict...   \n",
       "1       He was subdued by passengers and crew when he ...   \n",
       "2       \"Until you have a dog you don't understand wha...   \n",
       "3       \"Accidentally put grown-up toothpaste on my to...   \n",
       "4       Amy Cooper accused investment firm Franklin Te...   \n",
       "...                                                   ...   \n",
       "209522  Verizon Wireless and AT&T are already promotin...   \n",
       "209523  Afterward, Azarenka, more effusive with the pr...   \n",
       "209524  Leading up to Super Bowl XLVI, the most talked...   \n",
       "209525  CORRECTION: An earlier version of this story i...   \n",
       "209526  The five-time all-star center tore into his te...   \n",
       "\n",
       "                     authors       date  \n",
       "0       Carla K. Johnson, AP 2022-09-23  \n",
       "1             Mary Papenfuss 2022-09-23  \n",
       "2              Elyse Wanshel 2022-09-23  \n",
       "3           Caroline Bologna 2022-09-23  \n",
       "4             Nina Golgowski 2022-09-22  \n",
       "...                      ...        ...  \n",
       "209522      Reuters, Reuters 2012-01-28  \n",
       "209523                       2012-01-28  \n",
       "209524                       2012-01-28  \n",
       "209525                       2012-01-28  \n",
       "209526                       2012-01-28  \n",
       "\n",
       "[209527 rows x 6 columns]"
      ],
      "text/html": [
       "<div>\n",
       "<style scoped>\n",
       "    .dataframe tbody tr th:only-of-type {\n",
       "        vertical-align: middle;\n",
       "    }\n",
       "\n",
       "    .dataframe tbody tr th {\n",
       "        vertical-align: top;\n",
       "    }\n",
       "\n",
       "    .dataframe thead th {\n",
       "        text-align: right;\n",
       "    }\n",
       "</style>\n",
       "<table border=\"1\" class=\"dataframe\">\n",
       "  <thead>\n",
       "    <tr style=\"text-align: right;\">\n",
       "      <th></th>\n",
       "      <th>link</th>\n",
       "      <th>headline</th>\n",
       "      <th>category</th>\n",
       "      <th>short_description</th>\n",
       "      <th>authors</th>\n",
       "      <th>date</th>\n",
       "    </tr>\n",
       "  </thead>\n",
       "  <tbody>\n",
       "    <tr>\n",
       "      <th>0</th>\n",
       "      <td>https://www.huffpost.com/entry/covid-boosters-...</td>\n",
       "      <td>Over 4 Million Americans Roll Up Sleeves For O...</td>\n",
       "      <td>U.S. NEWS</td>\n",
       "      <td>Health experts said it is too early to predict...</td>\n",
       "      <td>Carla K. Johnson, AP</td>\n",
       "      <td>2022-09-23</td>\n",
       "    </tr>\n",
       "    <tr>\n",
       "      <th>1</th>\n",
       "      <td>https://www.huffpost.com/entry/american-airlin...</td>\n",
       "      <td>American Airlines Flyer Charged, Banned For Li...</td>\n",
       "      <td>U.S. NEWS</td>\n",
       "      <td>He was subdued by passengers and crew when he ...</td>\n",
       "      <td>Mary Papenfuss</td>\n",
       "      <td>2022-09-23</td>\n",
       "    </tr>\n",
       "    <tr>\n",
       "      <th>2</th>\n",
       "      <td>https://www.huffpost.com/entry/funniest-tweets...</td>\n",
       "      <td>23 Of The Funniest Tweets About Cats And Dogs ...</td>\n",
       "      <td>COMEDY</td>\n",
       "      <td>\"Until you have a dog you don't understand wha...</td>\n",
       "      <td>Elyse Wanshel</td>\n",
       "      <td>2022-09-23</td>\n",
       "    </tr>\n",
       "    <tr>\n",
       "      <th>3</th>\n",
       "      <td>https://www.huffpost.com/entry/funniest-parent...</td>\n",
       "      <td>The Funniest Tweets From Parents This Week (Se...</td>\n",
       "      <td>PARENTING</td>\n",
       "      <td>\"Accidentally put grown-up toothpaste on my to...</td>\n",
       "      <td>Caroline Bologna</td>\n",
       "      <td>2022-09-23</td>\n",
       "    </tr>\n",
       "    <tr>\n",
       "      <th>4</th>\n",
       "      <td>https://www.huffpost.com/entry/amy-cooper-lose...</td>\n",
       "      <td>Woman Who Called Cops On Black Bird-Watcher Lo...</td>\n",
       "      <td>U.S. NEWS</td>\n",
       "      <td>Amy Cooper accused investment firm Franklin Te...</td>\n",
       "      <td>Nina Golgowski</td>\n",
       "      <td>2022-09-22</td>\n",
       "    </tr>\n",
       "    <tr>\n",
       "      <th>...</th>\n",
       "      <td>...</td>\n",
       "      <td>...</td>\n",
       "      <td>...</td>\n",
       "      <td>...</td>\n",
       "      <td>...</td>\n",
       "      <td>...</td>\n",
       "    </tr>\n",
       "    <tr>\n",
       "      <th>209522</th>\n",
       "      <td>https://www.huffingtonpost.com/entry/rim-ceo-t...</td>\n",
       "      <td>RIM CEO Thorsten Heins' 'Significant' Plans Fo...</td>\n",
       "      <td>TECH</td>\n",
       "      <td>Verizon Wireless and AT&amp;T are already promotin...</td>\n",
       "      <td>Reuters, Reuters</td>\n",
       "      <td>2012-01-28</td>\n",
       "    </tr>\n",
       "    <tr>\n",
       "      <th>209523</th>\n",
       "      <td>https://www.huffingtonpost.com/entry/maria-sha...</td>\n",
       "      <td>Maria Sharapova Stunned By Victoria Azarenka I...</td>\n",
       "      <td>SPORTS</td>\n",
       "      <td>Afterward, Azarenka, more effusive with the pr...</td>\n",
       "      <td></td>\n",
       "      <td>2012-01-28</td>\n",
       "    </tr>\n",
       "    <tr>\n",
       "      <th>209524</th>\n",
       "      <td>https://www.huffingtonpost.com/entry/super-bow...</td>\n",
       "      <td>Giants Over Patriots, Jets Over Colts Among  M...</td>\n",
       "      <td>SPORTS</td>\n",
       "      <td>Leading up to Super Bowl XLVI, the most talked...</td>\n",
       "      <td></td>\n",
       "      <td>2012-01-28</td>\n",
       "    </tr>\n",
       "    <tr>\n",
       "      <th>209525</th>\n",
       "      <td>https://www.huffingtonpost.com/entry/aldon-smi...</td>\n",
       "      <td>Aldon Smith Arrested: 49ers Linebacker Busted ...</td>\n",
       "      <td>SPORTS</td>\n",
       "      <td>CORRECTION: An earlier version of this story i...</td>\n",
       "      <td></td>\n",
       "      <td>2012-01-28</td>\n",
       "    </tr>\n",
       "    <tr>\n",
       "      <th>209526</th>\n",
       "      <td>https://www.huffingtonpost.com/entry/dwight-ho...</td>\n",
       "      <td>Dwight Howard Rips Teammates After Magic Loss ...</td>\n",
       "      <td>SPORTS</td>\n",
       "      <td>The five-time all-star center tore into his te...</td>\n",
       "      <td></td>\n",
       "      <td>2012-01-28</td>\n",
       "    </tr>\n",
       "  </tbody>\n",
       "</table>\n",
       "<p>209527 rows × 6 columns</p>\n",
       "</div>"
      ]
     },
     "execution_count": 2,
     "metadata": {},
     "output_type": "execute_result"
    }
   ],
   "execution_count": 2
  },
  {
   "metadata": {
    "ExecuteTime": {
     "end_time": "2025-03-10T00:07:53.151683Z",
     "start_time": "2025-03-10T00:07:53.126804Z"
    }
   },
   "cell_type": "code",
   "source": [
    "df = df[['headline', 'category']]\n",
    "df"
   ],
   "id": "b6a6ba81b18c8866",
   "outputs": [
    {
     "data": {
      "text/plain": [
       "                                                 headline   category\n",
       "0       Over 4 Million Americans Roll Up Sleeves For O...  U.S. NEWS\n",
       "1       American Airlines Flyer Charged, Banned For Li...  U.S. NEWS\n",
       "2       23 Of The Funniest Tweets About Cats And Dogs ...     COMEDY\n",
       "3       The Funniest Tweets From Parents This Week (Se...  PARENTING\n",
       "4       Woman Who Called Cops On Black Bird-Watcher Lo...  U.S. NEWS\n",
       "...                                                   ...        ...\n",
       "209522  RIM CEO Thorsten Heins' 'Significant' Plans Fo...       TECH\n",
       "209523  Maria Sharapova Stunned By Victoria Azarenka I...     SPORTS\n",
       "209524  Giants Over Patriots, Jets Over Colts Among  M...     SPORTS\n",
       "209525  Aldon Smith Arrested: 49ers Linebacker Busted ...     SPORTS\n",
       "209526  Dwight Howard Rips Teammates After Magic Loss ...     SPORTS\n",
       "\n",
       "[209527 rows x 2 columns]"
      ],
      "text/html": [
       "<div>\n",
       "<style scoped>\n",
       "    .dataframe tbody tr th:only-of-type {\n",
       "        vertical-align: middle;\n",
       "    }\n",
       "\n",
       "    .dataframe tbody tr th {\n",
       "        vertical-align: top;\n",
       "    }\n",
       "\n",
       "    .dataframe thead th {\n",
       "        text-align: right;\n",
       "    }\n",
       "</style>\n",
       "<table border=\"1\" class=\"dataframe\">\n",
       "  <thead>\n",
       "    <tr style=\"text-align: right;\">\n",
       "      <th></th>\n",
       "      <th>headline</th>\n",
       "      <th>category</th>\n",
       "    </tr>\n",
       "  </thead>\n",
       "  <tbody>\n",
       "    <tr>\n",
       "      <th>0</th>\n",
       "      <td>Over 4 Million Americans Roll Up Sleeves For O...</td>\n",
       "      <td>U.S. NEWS</td>\n",
       "    </tr>\n",
       "    <tr>\n",
       "      <th>1</th>\n",
       "      <td>American Airlines Flyer Charged, Banned For Li...</td>\n",
       "      <td>U.S. NEWS</td>\n",
       "    </tr>\n",
       "    <tr>\n",
       "      <th>2</th>\n",
       "      <td>23 Of The Funniest Tweets About Cats And Dogs ...</td>\n",
       "      <td>COMEDY</td>\n",
       "    </tr>\n",
       "    <tr>\n",
       "      <th>3</th>\n",
       "      <td>The Funniest Tweets From Parents This Week (Se...</td>\n",
       "      <td>PARENTING</td>\n",
       "    </tr>\n",
       "    <tr>\n",
       "      <th>4</th>\n",
       "      <td>Woman Who Called Cops On Black Bird-Watcher Lo...</td>\n",
       "      <td>U.S. NEWS</td>\n",
       "    </tr>\n",
       "    <tr>\n",
       "      <th>...</th>\n",
       "      <td>...</td>\n",
       "      <td>...</td>\n",
       "    </tr>\n",
       "    <tr>\n",
       "      <th>209522</th>\n",
       "      <td>RIM CEO Thorsten Heins' 'Significant' Plans Fo...</td>\n",
       "      <td>TECH</td>\n",
       "    </tr>\n",
       "    <tr>\n",
       "      <th>209523</th>\n",
       "      <td>Maria Sharapova Stunned By Victoria Azarenka I...</td>\n",
       "      <td>SPORTS</td>\n",
       "    </tr>\n",
       "    <tr>\n",
       "      <th>209524</th>\n",
       "      <td>Giants Over Patriots, Jets Over Colts Among  M...</td>\n",
       "      <td>SPORTS</td>\n",
       "    </tr>\n",
       "    <tr>\n",
       "      <th>209525</th>\n",
       "      <td>Aldon Smith Arrested: 49ers Linebacker Busted ...</td>\n",
       "      <td>SPORTS</td>\n",
       "    </tr>\n",
       "    <tr>\n",
       "      <th>209526</th>\n",
       "      <td>Dwight Howard Rips Teammates After Magic Loss ...</td>\n",
       "      <td>SPORTS</td>\n",
       "    </tr>\n",
       "  </tbody>\n",
       "</table>\n",
       "<p>209527 rows × 2 columns</p>\n",
       "</div>"
      ]
     },
     "execution_count": 3,
     "metadata": {},
     "output_type": "execute_result"
    }
   ],
   "execution_count": 3
  },
  {
   "metadata": {
    "ExecuteTime": {
     "end_time": "2025-03-10T00:07:53.365878Z",
     "start_time": "2025-03-10T00:07:53.152681Z"
    }
   },
   "cell_type": "code",
   "source": [
    "df_headline_len = df['headline'].apply(lambda x: len(str(x).split(' ')))\n",
    "df_headline_len"
   ],
   "id": "c9a8b033a9aaca75",
   "outputs": [
    {
     "data": {
      "text/plain": [
       "0         11\n",
       "1         13\n",
       "2         13\n",
       "3          9\n",
       "4         11\n",
       "          ..\n",
       "209522     8\n",
       "209523    10\n",
       "209524    17\n",
       "209525     8\n",
       "209526     9\n",
       "Name: headline, Length: 209527, dtype: int64"
      ]
     },
     "execution_count": 4,
     "metadata": {},
     "output_type": "execute_result"
    }
   ],
   "execution_count": 4
  },
  {
   "metadata": {
    "ExecuteTime": {
     "end_time": "2025-03-10T00:07:56.150326Z",
     "start_time": "2025-03-10T00:07:55.545055Z"
    }
   },
   "cell_type": "code",
   "source": [
    "from matplotlib import pyplot as plt\n",
    "from scipy.stats import hmean\n",
    "import seaborn as sb\n",
    "\n",
    "mid_blue = '#6f93bf'\n",
    "mid_red = '#bf6f6f'\n",
    "\n",
    "max_headline_len = 20\n",
    "\n",
    "harmonic_headline_mean = hmean(df_headline_len)\n",
    "headline_mean = df_headline_len.mean()\n",
    "\n",
    "print(\n",
    "    f\"{\"mean\":>20}: {headline_mean:.2f}\",\n",
    "    f\"{\"harmonic mean\":>20}: {harmonic_headline_mean:.2f}\", sep='\\n'\n",
    ")\n",
    "\n",
    "fig, axes = plt.subplots(figsize=(20, 6))\n",
    "\n",
    "axes.set_title('Headline length in words')\n",
    "axes.set_xlabel('Length in words')\n",
    "axes.set_ylabel('Amount of headlines')\n",
    "sb.histplot(df_headline_len, ax=axes, binwidth=0.5, linewidth=0, color=mid_blue)\n",
    "axes.axvline(x=max_headline_len, color=mid_red, linestyle='--', label='cutoff')\n",
    "\n",
    "plt.tight_layout()"
   ],
   "id": "e1aa6272dbec4190",
   "outputs": [
    {
     "name": "stdout",
     "output_type": "stream",
     "text": [
      "                mean: 9.60\n",
      "       harmonic mean: 8.29\n"
     ]
    },
    {
     "data": {
      "text/plain": [
       "<Figure size 2000x600 with 1 Axes>"
      ],
      "image/png": "[encoded data removed]"
     },
     "metadata": {},
     "output_type": "display_data"
    }
   ],
   "execution_count": 5
  },
  {
   "metadata": {},
   "cell_type": "markdown",
   "source": "Beautiful gaussian curve.",
   "id": "ac8b8b546fe8f938"
  },
  {
   "metadata": {
    "ExecuteTime": {
     "end_time": "2025-03-10T00:08:01.209601Z",
     "start_time": "2025-03-10T00:08:01.166426Z"
    }
   },
   "cell_type": "code",
   "source": [
    "cut_to = lambda length: df_headline_len <= length\n",
    "shorter_than_20 = len(df[cut_to(20)])\n",
    "longer_than_20 = len(df) - len(df[cut_to(20)])\n",
    "\n",
    "print(\n",
    "    \"Amount of headlines\",\n",
    "    f\"  shorter/equal to 20: {shorter_than_20:_}\",\n",
    "    f\"       longer than 20: {longer_than_20:_}\", sep='\\n'\n",
    ")"
   ],
   "id": "f0034c91e90b709a",
   "outputs": [
    {
     "name": "stdout",
     "output_type": "stream",
     "text": [
      "Amount of headlines\n",
      "  shorter/equal to 20: 209_302\n",
      "       longer than 20: 225\n"
     ]
    }
   ],
   "execution_count": 6
  },
  {
   "metadata": {},
   "cell_type": "markdown",
   "source": [
    "Since we're going to train our model on most average headline length. <br>\n",
    "I don't see any point to use such small fraction of data. <br>\n",
    "It can be very problematic for training our model. So we can safely remove it."
   ],
   "id": "18e473653ebc87d9"
  },
  {
   "metadata": {
    "ExecuteTime": {
     "end_time": "2025-03-10T00:08:02.280415Z",
     "start_time": "2025-03-10T00:08:02.259297Z"
    }
   },
   "cell_type": "code",
   "source": "df = df[cut_to(max_headline_len)]",
   "id": "6fdcd20c70055ebf",
   "outputs": [],
   "execution_count": 7
  },
  {
   "metadata": {
    "ExecuteTime": {
     "end_time": "2025-03-10T00:08:03.009832Z",
     "start_time": "2025-03-10T00:08:02.798087Z"
    }
   },
   "cell_type": "code",
   "source": [
    "df_headline_len = df['headline'].apply(lambda x: len(str(x).split(' ')))\n",
    "df_headline_len"
   ],
   "id": "ca6b5fdad4f45945",
   "outputs": [
    {
     "data": {
      "text/plain": [
       "0         11\n",
       "1         13\n",
       "2         13\n",
       "3          9\n",
       "4         11\n",
       "          ..\n",
       "209522     8\n",
       "209523    10\n",
       "209524    17\n",
       "209525     8\n",
       "209526     9\n",
       "Name: headline, Length: 209302, dtype: int64"
      ]
     },
     "execution_count": 8,
     "metadata": {},
     "output_type": "execute_result"
    }
   ],
   "execution_count": 8
  },
  {
   "metadata": {
    "ExecuteTime": {
     "end_time": "2025-03-10T00:08:04.418881Z",
     "start_time": "2025-03-10T00:08:03.870069Z"
    }
   },
   "cell_type": "code",
   "source": [
    "from matplotlib import pyplot as plt\n",
    "import seaborn as sb\n",
    "\n",
    "mid_blue = '#6f93bf'\n",
    "mid_red = '#bf6f6f'\n",
    "\n",
    "max_headline_len = 20\n",
    "\n",
    "fig, axes = plt.subplots(figsize=(20, 6))\n",
    "\n",
    "axes.set_title('Headline length in words')\n",
    "axes.set_xlabel('Length in words')\n",
    "axes.set_ylabel('Amount of headlines')\n",
    "sb.histplot(df_headline_len, ax=axes, binwidth=0.5, linewidth=0, color=mid_blue)\n",
    "\n",
    "plt.tight_layout()"
   ],
   "id": "1130d38b117da3a0",
   "outputs": [
    {
     "data": {
      "text/plain": [
       "<Figure size 2000x600 with 1 Axes>"
      ],
      "image/png": "[encoded data removed]"
     },
     "metadata": {},
     "output_type": "display_data"
    }
   ],
   "execution_count": 9
  },
  {
   "metadata": {},
   "cell_type": "markdown",
   "source": "#### Tokenizing headlines",
   "id": "b2b7a81719452023"
  },
  {
   "metadata": {
    "ExecuteTime": {
     "end_time": "2025-03-10T00:08:05.283890Z",
     "start_time": "2025-03-10T00:08:05.278770Z"
    }
   },
   "cell_type": "code",
   "source": [
    "import re\n",
    "\n",
    "def text_clean(text):\n",
    "    result = text.lower()\n",
    "    result = re.sub(r'[^a-zA-Z\\s]', '', result)\n",
    "    result = re.sub(r' +', ' ', result)\n",
    "    return result"
   ],
   "id": "f77f0e45c4d31c80",
   "outputs": [],
   "execution_count": 10
  },
  {
   "metadata": {
    "ExecuteTime": {
     "end_time": "2025-03-10T00:08:05.870641Z",
     "start_time": "2025-03-10T00:08:05.863611Z"
    }
   },
   "cell_type": "code",
   "source": [
    "sample = '!@#this is \"a   \"sample! (T*eXt)...'\n",
    "print(\n",
    "    f\"Before: {sample}\",\n",
    "    f\"After: {text_clean(sample)}\", sep='\\n'\n",
    ")"
   ],
   "id": "eab38a029e829af6",
   "outputs": [
    {
     "name": "stdout",
     "output_type": "stream",
     "text": [
      "Before: !@#this is \"a   \"sample! (T*eXt)...\n",
      "After: this is a sample text\n"
     ]
    }
   ],
   "execution_count": 11
  },
  {
   "metadata": {
    "ExecuteTime": {
     "end_time": "2025-03-10T00:08:08.069979Z",
     "start_time": "2025-03-10T00:08:06.696711Z"
    }
   },
   "cell_type": "code",
   "source": [
    "df['headline'] = df['headline'].apply(lambda x: text_clean(str(x)))\n",
    "df"
   ],
   "id": "4207cb766ff51c7e",
   "outputs": [
    {
     "data": {
      "text/plain": [
       "                                                 headline   category\n",
       "0       over million americans roll up sleeves for omi...  U.S. NEWS\n",
       "1       american airlines flyer charged banned for lif...  U.S. NEWS\n",
       "2        of the funniest tweets about cats and dogs th...     COMEDY\n",
       "3        the funniest tweets from parents this week sept   PARENTING\n",
       "4       woman who called cops on black birdwatcher los...  U.S. NEWS\n",
       "...                                                   ...        ...\n",
       "209522  rim ceo thorsten heins significant plans for b...       TECH\n",
       "209523  maria sharapova stunned by victoria azarenka i...     SPORTS\n",
       "209524  giants over patriots jets over colts among mos...     SPORTS\n",
       "209525  aldon smith arrested ers linebacker busted for...     SPORTS\n",
       "209526  dwight howard rips teammates after magic loss ...     SPORTS\n",
       "\n",
       "[209302 rows x 2 columns]"
      ],
      "text/html": [
       "<div>\n",
       "<style scoped>\n",
       "    .dataframe tbody tr th:only-of-type {\n",
       "        vertical-align: middle;\n",
       "    }\n",
       "\n",
       "    .dataframe tbody tr th {\n",
       "        vertical-align: top;\n",
       "    }\n",
       "\n",
       "    .dataframe thead th {\n",
       "        text-align: right;\n",
       "    }\n",
       "</style>\n",
       "<table border=\"1\" class=\"dataframe\">\n",
       "  <thead>\n",
       "    <tr style=\"text-align: right;\">\n",
       "      <th></th>\n",
       "      <th>headline</th>\n",
       "      <th>category</th>\n",
       "    </tr>\n",
       "  </thead>\n",
       "  <tbody>\n",
       "    <tr>\n",
       "      <th>0</th>\n",
       "      <td>over million americans roll up sleeves for omi...</td>\n",
       "      <td>U.S. NEWS</td>\n",
       "    </tr>\n",
       "    <tr>\n",
       "      <th>1</th>\n",
       "      <td>american airlines flyer charged banned for lif...</td>\n",
       "      <td>U.S. NEWS</td>\n",
       "    </tr>\n",
       "    <tr>\n",
       "      <th>2</th>\n",
       "      <td>of the funniest tweets about cats and dogs th...</td>\n",
       "      <td>COMEDY</td>\n",
       "    </tr>\n",
       "    <tr>\n",
       "      <th>3</th>\n",
       "      <td>the funniest tweets from parents this week sept</td>\n",
       "      <td>PARENTING</td>\n",
       "    </tr>\n",
       "    <tr>\n",
       "      <th>4</th>\n",
       "      <td>woman who called cops on black birdwatcher los...</td>\n",
       "      <td>U.S. NEWS</td>\n",
       "    </tr>\n",
       "    <tr>\n",
       "      <th>...</th>\n",
       "      <td>...</td>\n",
       "      <td>...</td>\n",
       "    </tr>\n",
       "    <tr>\n",
       "      <th>209522</th>\n",
       "      <td>rim ceo thorsten heins significant plans for b...</td>\n",
       "      <td>TECH</td>\n",
       "    </tr>\n",
       "    <tr>\n",
       "      <th>209523</th>\n",
       "      <td>maria sharapova stunned by victoria azarenka i...</td>\n",
       "      <td>SPORTS</td>\n",
       "    </tr>\n",
       "    <tr>\n",
       "      <th>209524</th>\n",
       "      <td>giants over patriots jets over colts among mos...</td>\n",
       "      <td>SPORTS</td>\n",
       "    </tr>\n",
       "    <tr>\n",
       "      <th>209525</th>\n",
       "      <td>aldon smith arrested ers linebacker busted for...</td>\n",
       "      <td>SPORTS</td>\n",
       "    </tr>\n",
       "    <tr>\n",
       "      <th>209526</th>\n",
       "      <td>dwight howard rips teammates after magic loss ...</td>\n",
       "      <td>SPORTS</td>\n",
       "    </tr>\n",
       "  </tbody>\n",
       "</table>\n",
       "<p>209302 rows × 2 columns</p>\n",
       "</div>"
      ]
     },
     "execution_count": 12,
     "metadata": {},
     "output_type": "execute_result"
    }
   ],
   "execution_count": 12
  },
  {
   "metadata": {
    "ExecuteTime": {
     "end_time": "2025-03-10T00:08:10.738599Z",
     "start_time": "2025-03-10T00:08:09.704179Z"
    }
   },
   "cell_type": "code",
   "source": [
    "sorted_categories = df['category'].value_counts().index\n",
    "\n",
    "fig, axes = plt.subplots(figsize=(10, 10))\n",
    "\n",
    "print(\n",
    "    f\"min: {df['category'].value_counts().min()}\",\n",
    "    f\"max: {df['category'].value_counts().max()}\", sep='\\n'\n",
    ")\n",
    "\n",
    "sb.countplot(df['category'], order=sorted_categories)\n",
    "axes.axvline(x=1_000, color=mid_red, linestyle='--')\n",
    "plt.tight_layout()"
   ],
   "id": "a95982444f62dfaf",
   "outputs": [
    {
     "name": "stdout",
     "output_type": "stream",
     "text": [
      "min: 1007\n",
      "max: 35556\n"
     ]
    },
    {
     "data": {
      "text/plain": [
       "<Figure size 1000x1000 with 1 Axes>"
      ],
      "image/png": "[encoded data removed]"
     },
     "metadata": {},
     "output_type": "display_data"
    }
   ],
   "execution_count": 13
  },
  {
   "metadata": {},
   "cell_type": "markdown",
   "source": "#### Labeling categories",
   "id": "15698fc7a1ee9ee8"
  },
  {
   "metadata": {
    "ExecuteTime": {
     "end_time": "2025-03-10T00:08:11.730026Z",
     "start_time": "2025-03-10T00:08:11.723790Z"
    }
   },
   "cell_type": "code",
   "source": [
    "category_to_label = {\n",
    "    cat: i for i, cat in enumerate(sorted_categories)\n",
    "}\n",
    "\n",
    "category_to_label"
   ],
   "id": "dd96e2b1471cfd0d",
   "outputs": [
    {
     "data": {
      "text/plain": [
       "{'POLITICS': 0,\n",
       " 'WELLNESS': 1,\n",
       " 'ENTERTAINMENT': 2,\n",
       " 'TRAVEL': 3,\n",
       " 'STYLE & BEAUTY': 4,\n",
       " 'PARENTING': 5,\n",
       " 'HEALTHY LIVING': 6,\n",
       " 'QUEER VOICES': 7,\n",
       " 'FOOD & DRINK': 8,\n",
       " 'BUSINESS': 9,\n",
       " 'COMEDY': 10,\n",
       " 'SPORTS': 11,\n",
       " 'BLACK VOICES': 12,\n",
       " 'HOME & LIVING': 13,\n",
       " 'PARENTS': 14,\n",
       " 'THE WORLDPOST': 15,\n",
       " 'WEDDINGS': 16,\n",
       " 'WOMEN': 17,\n",
       " 'CRIME': 18,\n",
       " 'IMPACT': 19,\n",
       " 'DIVORCE': 20,\n",
       " 'WORLD NEWS': 21,\n",
       " 'MEDIA': 22,\n",
       " 'WEIRD NEWS': 23,\n",
       " 'GREEN': 24,\n",
       " 'WORLDPOST': 25,\n",
       " 'RELIGION': 26,\n",
       " 'STYLE': 27,\n",
       " 'SCIENCE': 28,\n",
       " 'TECH': 29,\n",
       " 'TASTE': 30,\n",
       " 'MONEY': 31,\n",
       " 'ARTS': 32,\n",
       " 'ENVIRONMENT': 33,\n",
       " 'FIFTY': 34,\n",
       " 'GOOD NEWS': 35,\n",
       " 'U.S. NEWS': 36,\n",
       " 'ARTS & CULTURE': 37,\n",
       " 'COLLEGE': 38,\n",
       " 'LATINO VOICES': 39,\n",
       " 'CULTURE & ARTS': 40,\n",
       " 'EDUCATION': 41}"
      ]
     },
     "execution_count": 14,
     "metadata": {},
     "output_type": "execute_result"
    }
   ],
   "execution_count": 14
  },
  {
   "metadata": {
    "ExecuteTime": {
     "end_time": "2025-03-10T00:08:12.479201Z",
     "start_time": "2025-03-10T00:08:12.354789Z"
    }
   },
   "cell_type": "code",
   "source": [
    "df['category'] = df['category'].apply(lambda cat: category_to_label[cat])\n",
    "df"
   ],
   "id": "f73ca69b45d768d4",
   "outputs": [
    {
     "data": {
      "text/plain": [
       "                                                 headline  category\n",
       "0       over million americans roll up sleeves for omi...        36\n",
       "1       american airlines flyer charged banned for lif...        36\n",
       "2        of the funniest tweets about cats and dogs th...        10\n",
       "3        the funniest tweets from parents this week sept          5\n",
       "4       woman who called cops on black birdwatcher los...        36\n",
       "...                                                   ...       ...\n",
       "209522  rim ceo thorsten heins significant plans for b...        29\n",
       "209523  maria sharapova stunned by victoria azarenka i...        11\n",
       "209524  giants over patriots jets over colts among mos...        11\n",
       "209525  aldon smith arrested ers linebacker busted for...        11\n",
       "209526  dwight howard rips teammates after magic loss ...        11\n",
       "\n",
       "[209302 rows x 2 columns]"
      ],
      "text/html": [
       "<div>\n",
       "<style scoped>\n",
       "    .dataframe tbody tr th:only-of-type {\n",
       "        vertical-align: middle;\n",
       "    }\n",
       "\n",
       "    .dataframe tbody tr th {\n",
       "        vertical-align: top;\n",
       "    }\n",
       "\n",
       "    .dataframe thead th {\n",
       "        text-align: right;\n",
       "    }\n",
       "</style>\n",
       "<table border=\"1\" class=\"dataframe\">\n",
       "  <thead>\n",
       "    <tr style=\"text-align: right;\">\n",
       "      <th></th>\n",
       "      <th>headline</th>\n",
       "      <th>category</th>\n",
       "    </tr>\n",
       "  </thead>\n",
       "  <tbody>\n",
       "    <tr>\n",
       "      <th>0</th>\n",
       "      <td>over million americans roll up sleeves for omi...</td>\n",
       "      <td>36</td>\n",
       "    </tr>\n",
       "    <tr>\n",
       "      <th>1</th>\n",
       "      <td>american airlines flyer charged banned for lif...</td>\n",
       "      <td>36</td>\n",
       "    </tr>\n",
       "    <tr>\n",
       "      <th>2</th>\n",
       "      <td>of the funniest tweets about cats and dogs th...</td>\n",
       "      <td>10</td>\n",
       "    </tr>\n",
       "    <tr>\n",
       "      <th>3</th>\n",
       "      <td>the funniest tweets from parents this week sept</td>\n",
       "      <td>5</td>\n",
       "    </tr>\n",
       "    <tr>\n",
       "      <th>4</th>\n",
       "      <td>woman who called cops on black birdwatcher los...</td>\n",
       "      <td>36</td>\n",
       "    </tr>\n",
       "    <tr>\n",
       "      <th>...</th>\n",
       "      <td>...</td>\n",
       "      <td>...</td>\n",
       "    </tr>\n",
       "    <tr>\n",
       "      <th>209522</th>\n",
       "      <td>rim ceo thorsten heins significant plans for b...</td>\n",
       "      <td>29</td>\n",
       "    </tr>\n",
       "    <tr>\n",
       "      <th>209523</th>\n",
       "      <td>maria sharapova stunned by victoria azarenka i...</td>\n",
       "      <td>11</td>\n",
       "    </tr>\n",
       "    <tr>\n",
       "      <th>209524</th>\n",
       "      <td>giants over patriots jets over colts among mos...</td>\n",
       "      <td>11</td>\n",
       "    </tr>\n",
       "    <tr>\n",
       "      <th>209525</th>\n",
       "      <td>aldon smith arrested ers linebacker busted for...</td>\n",
       "      <td>11</td>\n",
       "    </tr>\n",
       "    <tr>\n",
       "      <th>209526</th>\n",
       "      <td>dwight howard rips teammates after magic loss ...</td>\n",
       "      <td>11</td>\n",
       "    </tr>\n",
       "  </tbody>\n",
       "</table>\n",
       "<p>209302 rows × 2 columns</p>\n",
       "</div>"
      ]
     },
     "execution_count": 15,
     "metadata": {},
     "output_type": "execute_result"
    }
   ],
   "execution_count": 15
  },
  {
   "metadata": {
    "ExecuteTime": {
     "end_time": "2025-03-10T00:08:14.172663Z",
     "start_time": "2025-03-10T00:08:13.132514Z"
    }
   },
   "cell_type": "code",
   "source": [
    "from collections import Counter\n",
    "\n",
    "tokenized_texts = [headline.split() for headline in df['headline']]\n",
    "word_counts = Counter([word for headline in tokenized_texts\n",
    "                            for word in headline])\n",
    "word_counts.most_common(10)"
   ],
   "id": "33611950621db542",
   "outputs": [
    {
     "data": {
      "text/plain": [
       "[('the', 63324),\n",
       " ('to', 52552),\n",
       " ('of', 33273),\n",
       " ('a', 32394),\n",
       " ('in', 31900),\n",
       " ('for', 25437),\n",
       " ('and', 24363),\n",
       " ('is', 17895),\n",
       " ('on', 17393),\n",
       " ('with', 13781)]"
      ]
     },
     "execution_count": 16,
     "metadata": {},
     "output_type": "execute_result"
    }
   ],
   "execution_count": 16
  },
  {
   "metadata": {
    "ExecuteTime": {
     "end_time": "2025-03-10T00:08:15.319349Z",
     "start_time": "2025-03-10T00:08:15.249821Z"
    }
   },
   "cell_type": "code",
   "source": [
    "word_to_idx = {word: i+1 for i, (word, _) in enumerate(word_counts.most_common())}\n",
    "word_to_idx['<PAD>'] = 0\n",
    "idx_to_word = {i: word for word, i in word_to_idx.items()}\n",
    "\n",
    "for i in range(10):\n",
    "    print(idx_to_word[i])"
   ],
   "id": "771b59d4e59f3c3b",
   "outputs": [
    {
     "name": "stdout",
     "output_type": "stream",
     "text": [
      "<PAD>\n",
      "the\n",
      "to\n",
      "of\n",
      "a\n",
      "in\n",
      "for\n",
      "and\n",
      "is\n",
      "on\n"
     ]
    }
   ],
   "execution_count": 17
  },
  {
   "metadata": {
    "ExecuteTime": {
     "end_time": "2025-03-10T00:08:16.908457Z",
     "start_time": "2025-03-10T00:08:16.106346Z"
    }
   },
   "cell_type": "code",
   "source": [
    "sequences = [[word_to_idx[word] for word in headline.split()] for headline in df['headline']]\n",
    "sequences[:10]"
   ],
   "id": "dd7aadb2194e5d70",
   "outputs": [
    {
     "data": {
      "text/plain": [
       "[[49, 204, 214, 1952, 43, 19072, 6, 36951, 958, 16149],\n",
       " [138, 1094, 9105, 993, 2039, 6, 64, 27, 8056, 902, 5532, 9, 26],\n",
       " [3, 1, 804, 295, 21, 1710, 7, 670, 19, 74, 6916],\n",
       " [1, 804, 295, 18, 151, 19, 74, 6916],\n",
       " [125, 50, 868, 481, 9, 83, 28677, 1480, 833, 117, 36952],\n",
       " [8295, 75, 165, 5, 28678, 1526, 6, 269, 166, 371, 294, 118],\n",
       " [1171, 149, 499, 731, 18, 45, 1936, 306, 190, 9, 284],\n",
       " [1307, 11461, 3224, 6, 419, 27, 721, 36953, 7632],\n",
       " [15, 4, 17, 1497, 1852, 1, 12638, 3, 134, 4, 195, 3, 1303],\n",
       " [457, 16, 629, 2, 297, 520, 194, 38, 21316, 2, 11003, 4394]]"
      ]
     },
     "execution_count": 18,
     "metadata": {},
     "output_type": "execute_result"
    }
   ],
   "execution_count": 18
  },
  {
   "metadata": {
    "ExecuteTime": {
     "end_time": "2025-03-10T00:08:23.404841Z",
     "start_time": "2025-03-10T00:08:17.999506Z"
    }
   },
   "cell_type": "code",
   "source": [
    "import numpy as np\n",
    "\n",
    "padded_sequences = []\n",
    "\n",
    "for seq in sequences:\n",
    "    pad_seq = np.pad(seq, pad_width=(0, max_headline_len - len(seq)))\n",
    "    padded_sequences.append(pad_seq)\n",
    "    \n",
    "padded_sequences = np.array(padded_sequences, dtype=np.int64)"
   ],
   "id": "f96ec7178030a6cd",
   "outputs": [],
   "execution_count": 19
  },
  {
   "metadata": {
    "ExecuteTime": {
     "end_time": "2025-03-10T00:08:23.412444Z",
     "start_time": "2025-03-10T00:08:23.405838Z"
    }
   },
   "cell_type": "code",
   "source": "padded_sequences[:10]",
   "id": "110ecbad5dce6eea",
   "outputs": [
    {
     "data": {
      "text/plain": [
       "array([[   49,   204,   214,  1952,    43, 19072,     6, 36951,   958,\n",
       "        16149,     0,     0,     0,     0,     0,     0,     0,     0,\n",
       "            0,     0],\n",
       "       [  138,  1094,  9105,   993,  2039,     6,    64,    27,  8056,\n",
       "          902,  5532,     9,    26,     0,     0,     0,     0,     0,\n",
       "            0,     0],\n",
       "       [    3,     1,   804,   295,    21,  1710,     7,   670,    19,\n",
       "           74,  6916,     0,     0,     0,     0,     0,     0,     0,\n",
       "            0,     0],\n",
       "       [    1,   804,   295,    18,   151,    19,    74,  6916,     0,\n",
       "            0,     0,     0,     0,     0,     0,     0,     0,     0,\n",
       "            0,     0],\n",
       "       [  125,    50,   868,   481,     9,    83, 28677,  1480,   833,\n",
       "          117, 36952,     0,     0,     0,     0,     0,     0,     0,\n",
       "            0,     0],\n",
       "       [ 8295,    75,   165,     5, 28678,  1526,     6,   269,   166,\n",
       "          371,   294,   118,     0,     0,     0,     0,     0,     0,\n",
       "            0,     0],\n",
       "       [ 1171,   149,   499,   731,    18,    45,  1936,   306,   190,\n",
       "            9,   284,     0,     0,     0,     0,     0,     0,     0,\n",
       "            0,     0],\n",
       "       [ 1307, 11461,  3224,     6,   419,    27,   721, 36953,  7632,\n",
       "            0,     0,     0,     0,     0,     0,     0,     0,     0,\n",
       "            0,     0],\n",
       "       [   15,     4,    17,  1497,  1852,     1, 12638,     3,   134,\n",
       "            4,   195,     3,  1303,     0,     0,     0,     0,     0,\n",
       "            0,     0],\n",
       "       [  457,    16,   629,     2,   297,   520,   194,    38, 21316,\n",
       "            2, 11003,  4394,     0,     0,     0,     0,     0,     0,\n",
       "            0,     0]])"
      ]
     },
     "execution_count": 20,
     "metadata": {},
     "output_type": "execute_result"
    }
   ],
   "execution_count": 20
  },
  {
   "metadata": {
    "ExecuteTime": {
     "end_time": "2025-03-10T00:08:25.588270Z",
     "start_time": "2025-03-10T00:08:25.583359Z"
    }
   },
   "cell_type": "code",
   "source": [
    "train_size = int(len(padded_sequences) * 0.7)\n",
    "\n",
    "labels = df['category']\n",
    "\n",
    "train_split = (padded_sequences[:train_size], labels[:train_size])\n",
    "test_split = (padded_sequences[train_size:], labels[train_size:])"
   ],
   "id": "417b8e8867fabc27",
   "outputs": [],
   "execution_count": 21
  },
  {
   "metadata": {
    "ExecuteTime": {
     "end_time": "2025-03-10T00:08:26.219760Z",
     "start_time": "2025-03-10T00:08:26.214210Z"
    }
   },
   "cell_type": "code",
   "source": "len(test_split[0]) + len(train_split[0]) == len(df)",
   "id": "30e20eed196b1bee",
   "outputs": [
    {
     "data": {
      "text/plain": [
       "True"
      ]
     },
     "execution_count": 22,
     "metadata": {},
     "output_type": "execute_result"
    }
   ],
   "execution_count": 22
  },
  {
   "metadata": {
    "ExecuteTime": {
     "end_time": "2025-03-10T00:08:30.512766Z",
     "start_time": "2025-03-10T00:08:27.335286Z"
    }
   },
   "cell_type": "code",
   "source": [
    "import torch\n",
    "from torch.utils.data import TensorDataset, DataLoader\n",
    "\n",
    "def return_loader(dataset):\n",
    "\n",
    "    sequences, labels = dataset\n",
    "        \n",
    "    x, y = [], []\n",
    "    \n",
    "    for sequence, label in zip(sequences, labels):\n",
    "        x.append(sequence)\n",
    "        y.append(label)\n",
    "        \n",
    "    tensor_dataset = TensorDataset(torch.tensor(x).long(),\n",
    "                                   torch.tensor(y).long())\n",
    "    \n",
    "    return DataLoader(tensor_dataset, batch_size=32, drop_last=True)"
   ],
   "id": "f3a811002852d32a",
   "outputs": [],
   "execution_count": 23
  },
  {
   "metadata": {
    "ExecuteTime": {
     "end_time": "2025-03-10T00:08:32.297989Z",
     "start_time": "2025-03-10T00:08:31.060711Z"
    }
   },
   "cell_type": "code",
   "source": [
    "train_loader  = return_loader(dataset=train_split)\n",
    "test_loader = return_loader(dataset=test_split)"
   ],
   "id": "ccda7ec70df24927",
   "outputs": [],
   "execution_count": 24
  },
  {
   "metadata": {
    "ExecuteTime": {
     "end_time": "2025-03-10T00:08:32.784836Z",
     "start_time": "2025-03-10T00:08:32.774634Z"
    }
   },
   "cell_type": "code",
   "source": [
    "i = 0\n",
    "\n",
    "for batch in test_loader:\n",
    "    inputs, targets = batch\n",
    "    print(inputs[i], targets[i])\n",
    "    \n",
    "    break"
   ],
   "id": "eb5c1e53dbd4d73e",
   "outputs": [
    {
     "name": "stdout",
     "output_type": "stream",
     "text": [
      "tensor([   1,  467,    3,  138, 1186,    7,  478, 8878,    0,    0,    0,    0,\n",
      "           0,    0,    0,    0,    0,    0,    0,    0]) tensor(19)\n"
     ]
    }
   ],
   "execution_count": 25
  },
  {
   "metadata": {
    "ExecuteTime": {
     "end_time": "2025-03-10T00:08:33.501722Z",
     "start_time": "2025-03-10T00:08:33.495456Z"
    }
   },
   "cell_type": "code",
   "source": [
    "from torch import nn\n",
    "\n",
    "class RNN(nn.Module):\n",
    "    def __init__(self, vocab_size, embed_size, hidden_size, output_size):\n",
    "        super(RNN, self).__init__()\n",
    "        self.embedding = nn.Embedding(vocab_size, embed_size)\n",
    "        self.rnn = nn.LSTM(input_size=embed_size, hidden_size=hidden_size, batch_first=True)\n",
    "        self.fc = nn.Linear(hidden_size, output_size)\n",
    "        \n",
    "    def forward(self, x):\n",
    "        x = self.embedding(x)\n",
    "        rnn_out, hidden = self.rnn(x)\n",
    "        output = self.fc(hidden[0][-1])\n",
    "        \n",
    "        return output"
   ],
   "id": "478bc40242bb2ad1",
   "outputs": [],
   "execution_count": 26
  },
  {
   "metadata": {
    "ExecuteTime": {
     "end_time": "2025-03-10T00:08:34.211686Z",
     "start_time": "2025-03-10T00:08:34.178144Z"
    }
   },
   "cell_type": "code",
   "source": "torch.device('cuda') if torch.cuda.is_available() else 'cpu'",
   "id": "66a6617e233170a0",
   "outputs": [
    {
     "data": {
      "text/plain": [
       "device(type='cuda')"
      ]
     },
     "execution_count": 27,
     "metadata": {},
     "output_type": "execute_result"
    }
   ],
   "execution_count": 27
  },
  {
   "metadata": {
    "ExecuteTime": {
     "end_time": "2025-03-10T00:16:24.574829Z",
     "start_time": "2025-03-10T00:16:24.568056Z"
    }
   },
   "cell_type": "code",
   "source": [
    "from torch import optim\n",
    "\n",
    "def train_model(model, data_loader, n_epochs=1, learning_rate=0.001):\n",
    "    \n",
    "    device = torch.device('cuda') if torch.cuda.is_available() else 'cpu'\n",
    "    \n",
    "    model.to(device)\n",
    "    criterion = nn.CrossEntropyLoss()\n",
    "    optimizer = optim.Adam(params=model.parameters(), lr=learning_rate)\n",
    "    \n",
    "    for epoch in range(n_epochs):\n",
    "        \n",
    "        model.train()\n",
    "        total_loss = 0\n",
    "        \n",
    "        for i, batch in enumerate(data_loader):\n",
    "            inputs, targets = batch\n",
    "            inputs, targets = (inputs.to(device).long(),\n",
    "                               targets.to(device).long())\n",
    "            optimizer.zero_grad()\n",
    "            outputs = model(inputs)\n",
    "            \n",
    "            loss = criterion(outputs, targets)\n",
    "            loss.backward()\n",
    "            \n",
    "            optimizer.step()\n",
    "            \n",
    "            total_loss += loss.item()\n",
    "            \n",
    "        avg_loss = total_loss / len(data_loader)\n",
    "        \n",
    "        print(\n",
    "            f\"Epoch: {epoch+1} / {n_epochs}  |  loss: {avg_loss:.4f}\"\n",
    "        )"
   ],
   "id": "e1c873ad8fd34561",
   "outputs": [],
   "execution_count": 40
  },
  {
   "metadata": {
    "ExecuteTime": {
     "end_time": "2025-03-10T00:16:25.012555Z",
     "start_time": "2025-03-10T00:16:24.977101Z"
    }
   },
   "cell_type": "code",
   "source": [
    "rnn_model = RNN(vocab_size=len(word_to_idx),\n",
    "                embed_size=50,\n",
    "                hidden_size=64,\n",
    "                output_size=42)"
   ],
   "id": "8c7ba91d1e622986",
   "outputs": [],
   "execution_count": 41
  },
  {
   "metadata": {
    "ExecuteTime": {
     "end_time": "2025-03-10T00:22:38.951869Z",
     "start_time": "2025-03-10T00:16:26.001228Z"
    }
   },
   "cell_type": "code",
   "source": [
    "train_model(\n",
    "    model=rnn_model,\n",
    "    data_loader=train_loader,\n",
    "    n_epochs=20,\n",
    "    learning_rate=0.001\n",
    ")"
   ],
   "id": "1a49733a4f234756",
   "outputs": [
    {
     "name": "stdout",
     "output_type": "stream",
     "text": [
      "Epoch: 1 / 20  |  loss: 2.7471\n",
      "Epoch: 2 / 20  |  loss: 2.7409\n",
      "Epoch: 3 / 20  |  loss: 2.3979\n",
      "Epoch: 4 / 20  |  loss: 2.0008\n",
      "Epoch: 5 / 20  |  loss: 1.7271\n",
      "Epoch: 6 / 20  |  loss: 1.5198\n",
      "Epoch: 7 / 20  |  loss: 1.3561\n",
      "Epoch: 8 / 20  |  loss: 1.2171\n",
      "Epoch: 9 / 20  |  loss: 1.0946\n",
      "Epoch: 10 / 20  |  loss: 0.9843\n",
      "Epoch: 11 / 20  |  loss: 0.8842\n",
      "Epoch: 12 / 20  |  loss: 0.7946\n",
      "Epoch: 13 / 20  |  loss: 0.7160\n",
      "Epoch: 14 / 20  |  loss: 0.6486\n",
      "Epoch: 15 / 20  |  loss: 0.5900\n",
      "Epoch: 16 / 20  |  loss: 0.5374\n",
      "Epoch: 17 / 20  |  loss: 0.4910\n",
      "Epoch: 18 / 20  |  loss: 0.4532\n",
      "Epoch: 19 / 20  |  loss: 0.4180\n",
      "Epoch: 20 / 20  |  loss: 0.3896\n"
     ]
    }
   ],
   "execution_count": 42
  },
  {
   "metadata": {
    "ExecuteTime": {
     "end_time": "2025-03-10T00:26:34.218567Z",
     "start_time": "2025-03-10T00:26:34.209320Z"
    }
   },
   "cell_type": "code",
   "source": [
    "def test_model(model, data_loader):\n",
    "\n",
    "    device = torch.device('cuda') if torch.cuda.is_available() else 'cpu'\n",
    "    model.to(device)\n",
    "\n",
    "    model.eval()\n",
    "\n",
    "    total_correct = 0\n",
    "    total_samples = 0\n",
    "\n",
    "    with torch.no_grad():\n",
    "        for inputs, targets in data_loader:\n",
    "            inputs, targets = inputs.to(device).long(), targets.to(device).long()\n",
    "\n",
    "            outputs = model(inputs)\n",
    "            _, predicted = torch.max(outputs.data, 1)\n",
    "\n",
    "            total_correct += torch.sum(predicted == targets).item()\n",
    "            total_samples += targets.size(0)\n",
    "\n",
    "    accuracy = total_correct / total_samples\n",
    "    print(f'Accuracy: {accuracy:.4f}')\n"
   ],
   "id": "5f2363391051d2fe",
   "outputs": [],
   "execution_count": 43
  },
  {
   "metadata": {
    "ExecuteTime": {
     "end_time": "2025-03-10T00:27:20.665178Z",
     "start_time": "2025-03-10T00:27:20.654279Z"
    }
   },
   "cell_type": "code",
   "source": [
    "def test_model(model, data_loader):\n",
    "    \n",
    "    device = torch.device('cuda') if torch.cuda.is_available() else 'cpu'\n",
    "    model.to(device)\n",
    "    \n",
    "    model.eval()\n",
    "    \n",
    "    y_true = {i: [] for i in range(42)}\n",
    "    y_pred = {i: [] for i in range(42)}\n",
    "    \n",
    "    with torch.no_grad():\n",
    "        for inputs, targets in data_loader:\n",
    "            inputs, targets = inputs.to(device).long(), targets.to(device).long()\n",
    "            \n",
    "            outputs = model(inputs)\n",
    "            _, predicted = torch.max(outputs.data, 1)\n",
    "            \n",
    "            for true, pred in zip(targets, predicted):\n",
    "                y_true[true.item()].append(true.item())\n",
    "                y_pred[true.item()].append(pred.item())\n",
    "\n",
    "    return y_true, y_pred"
   ],
   "id": "929f4b08e32ef326",
   "outputs": [],
   "execution_count": 45
  },
  {
   "metadata": {
    "ExecuteTime": {
     "end_time": "2025-03-10T00:26:38.543153Z",
     "start_time": "2025-03-10T00:26:35.002595Z"
    }
   },
   "cell_type": "code",
   "source": "y_true, y_pred = test_model(model=rnn_model, data_loader=test_loader)",
   "id": "decbd7620b95a0b0",
   "outputs": [
    {
     "name": "stdout",
     "output_type": "stream",
     "text": [
      "Accuracy: 0.4931\n"
     ]
    }
   ],
   "execution_count": 44
  }
 ],
 "metadata": {
  "kernelspec": {
   "display_name": "Python 3",
   "language": "python",
   "name": "python3"
  },
  "language_info": {
   "codemirror_mode": {
    "name": "ipython",
    "version": 2
   },
   "file_extension": ".py",
   "mimetype": "text/x-python",
   "name": "python",
   "nbconvert_exporter": "python",
   "pygments_lexer": "ipython2",
   "version": "2.7.6"
  }
 },
 "nbformat": 4,
 "nbformat_minor": 5
}
