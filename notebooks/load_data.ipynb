{
 "cells": [
  {
   "cell_type": "code",
   "id": "initial_id",
   "metadata": {
    "collapsed": true,
    "ExecuteTime": {
     "end_time": "2025-03-13T21:42:49.622632Z",
     "start_time": "2025-03-13T21:42:49.617178Z"
    }
   },
   "source": [
    "import pandas as pd\n",
    "import os"
   ],
   "outputs": [],
   "execution_count": 12
  },
  {
   "metadata": {
    "ExecuteTime": {
     "end_time": "2025-03-13T21:42:50.138182Z",
     "start_time": "2025-03-13T21:42:50.128519Z"
    }
   },
   "cell_type": "code",
   "source": [
    "data_path = 'D:\\\\data-science\\\\bbc'\n",
    "labels = os.listdir(data_path)\n",
    "list_files = lambda label: os.listdir(os.path.join(data_path, label))\n",
    "i_file_in_dir = lambda label, i: os.listdir(os.path.join(data_path, label))[i]\n",
    "\n",
    "labels"
   ],
   "id": "9d2fb3fab2e7549b",
   "outputs": [
    {
     "data": {
      "text/plain": [
       "['business', 'entertainment', 'politics', 'sport', 'tech']"
      ]
     },
     "execution_count": 13,
     "metadata": {},
     "output_type": "execute_result"
    }
   ],
   "execution_count": 13
  },
  {
   "metadata": {
    "ExecuteTime": {
     "end_time": "2025-03-13T21:42:50.879157Z",
     "start_time": "2025-03-13T21:42:50.874399Z"
    }
   },
   "cell_type": "code",
   "source": [
    "temp_df_dict = {'category': [],\n",
    "                'text': []}"
   ],
   "id": "afc64a28fcdc3083",
   "outputs": [],
   "execution_count": 14
  },
  {
   "metadata": {
    "ExecuteTime": {
     "end_time": "2025-03-13T21:42:52.081340Z",
     "start_time": "2025-03-13T21:42:51.681134Z"
    }
   },
   "cell_type": "code",
   "source": [
    "for label in labels:\n",
    "    for nth_file in list_files(label):\n",
    "        file_path = os.path.join(data_path, label, nth_file)\n",
    "        \n",
    "        with open(file_path, 'r') as file:\n",
    "            temp_df_dict['category'].append(label)\n",
    "            temp_df_dict['text'].append(file.read())"
   ],
   "id": "2398b15c1a2e0576",
   "outputs": [],
   "execution_count": 15
  },
  {
   "metadata": {
    "ExecuteTime": {
     "end_time": "2025-03-13T21:42:52.727949Z",
     "start_time": "2025-03-13T21:42:52.717248Z"
    }
   },
   "cell_type": "code",
   "source": [
    "df = pd.DataFrame.from_dict(temp_df_dict)\n",
    "df"
   ],
   "id": "f55f59ff593ff37f",
   "outputs": [
    {
     "data": {
      "text/plain": [
       "      category                                               text\n",
       "0     business  Ad sales boost Time Warner profit\\n\\nQuarterly...\n",
       "1     business  Dollar gains on Greenspan speech\\n\\nThe dollar...\n",
       "2     business  Yukos unit buyer faces loan claim\\n\\nThe owner...\n",
       "3     business  High fuel prices hit BA's profits\\n\\nBritish A...\n",
       "4     business  Pernod takeover talk lifts Domecq\\n\\nShares in...\n",
       "...        ...                                                ...\n",
       "2220      tech  BT program to beat dialler scams\\n\\nBT is intr...\n",
       "2221      tech  Spam e-mails tempt net shoppers\\n\\nComputer us...\n",
       "2222      tech  Be careful how you code\\n\\nA new European dire...\n",
       "2223      tech  US cyber security chief resigns\\n\\nThe man mak...\n",
       "2224      tech  Losing yourself in online gaming\\n\\nOnline rol...\n",
       "\n",
       "[2225 rows x 2 columns]"
      ],
      "text/html": [
       "<div>\n",
       "<style scoped>\n",
       "    .dataframe tbody tr th:only-of-type {\n",
       "        vertical-align: middle;\n",
       "    }\n",
       "\n",
       "    .dataframe tbody tr th {\n",
       "        vertical-align: top;\n",
       "    }\n",
       "\n",
       "    .dataframe thead th {\n",
       "        text-align: right;\n",
       "    }\n",
       "</style>\n",
       "<table border=\"1\" class=\"dataframe\">\n",
       "  <thead>\n",
       "    <tr style=\"text-align: right;\">\n",
       "      <th></th>\n",
       "      <th>category</th>\n",
       "      <th>text</th>\n",
       "    </tr>\n",
       "  </thead>\n",
       "  <tbody>\n",
       "    <tr>\n",
       "      <th>0</th>\n",
       "      <td>business</td>\n",
       "      <td>Ad sales boost Time Warner profit\\n\\nQuarterly...</td>\n",
       "    </tr>\n",
       "    <tr>\n",
       "      <th>1</th>\n",
       "      <td>business</td>\n",
       "      <td>Dollar gains on Greenspan speech\\n\\nThe dollar...</td>\n",
       "    </tr>\n",
       "    <tr>\n",
       "      <th>2</th>\n",
       "      <td>business</td>\n",
       "      <td>Yukos unit buyer faces loan claim\\n\\nThe owner...</td>\n",
       "    </tr>\n",
       "    <tr>\n",
       "      <th>3</th>\n",
       "      <td>business</td>\n",
       "      <td>High fuel prices hit BA's profits\\n\\nBritish A...</td>\n",
       "    </tr>\n",
       "    <tr>\n",
       "      <th>4</th>\n",
       "      <td>business</td>\n",
       "      <td>Pernod takeover talk lifts Domecq\\n\\nShares in...</td>\n",
       "    </tr>\n",
       "    <tr>\n",
       "      <th>...</th>\n",
       "      <td>...</td>\n",
       "      <td>...</td>\n",
       "    </tr>\n",
       "    <tr>\n",
       "      <th>2220</th>\n",
       "      <td>tech</td>\n",
       "      <td>BT program to beat dialler scams\\n\\nBT is intr...</td>\n",
       "    </tr>\n",
       "    <tr>\n",
       "      <th>2221</th>\n",
       "      <td>tech</td>\n",
       "      <td>Spam e-mails tempt net shoppers\\n\\nComputer us...</td>\n",
       "    </tr>\n",
       "    <tr>\n",
       "      <th>2222</th>\n",
       "      <td>tech</td>\n",
       "      <td>Be careful how you code\\n\\nA new European dire...</td>\n",
       "    </tr>\n",
       "    <tr>\n",
       "      <th>2223</th>\n",
       "      <td>tech</td>\n",
       "      <td>US cyber security chief resigns\\n\\nThe man mak...</td>\n",
       "    </tr>\n",
       "    <tr>\n",
       "      <th>2224</th>\n",
       "      <td>tech</td>\n",
       "      <td>Losing yourself in online gaming\\n\\nOnline rol...</td>\n",
       "    </tr>\n",
       "  </tbody>\n",
       "</table>\n",
       "<p>2225 rows × 2 columns</p>\n",
       "</div>"
      ]
     },
     "execution_count": 16,
     "metadata": {},
     "output_type": "execute_result"
    }
   ],
   "execution_count": 16
  },
  {
   "metadata": {
    "ExecuteTime": {
     "end_time": "2025-03-13T21:43:05.117466Z",
     "start_time": "2025-03-13T21:43:05.013676Z"
    }
   },
   "cell_type": "code",
   "source": "df.to_csv(path_or_buf=os.path.join('../datasets/', 'bbc-raw.csv'), index=False)",
   "id": "7461b6de97eb34d6",
   "outputs": [],
   "execution_count": 17
  }
 ],
 "metadata": {
  "kernelspec": {
   "display_name": "Python 3",
   "language": "python",
   "name": "python3"
  },
  "language_info": {
   "codemirror_mode": {
    "name": "ipython",
    "version": 2
   },
   "file_extension": ".py",
   "mimetype": "text/x-python",
   "name": "python",
   "nbconvert_exporter": "python",
   "pygments_lexer": "ipython2",
   "version": "2.7.6"
  }
 },
 "nbformat": 4,
 "nbformat_minor": 5
}
